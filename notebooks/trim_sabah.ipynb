{
 "cells": [
  {
   "cell_type": "code",
   "execution_count": 2,
   "id": "ce1038fe-a778-46b5-926a-c9036c1aaf55",
   "metadata": {
    "tags": []
   },
   "outputs": [
    {
     "name": "stdout",
     "output_type": "stream",
     "text": [
      "Collecting librosa\n",
      "  Using cached librosa-0.10.1-py3-none-any.whl (253 kB)\n",
      "Requirement already satisfied: joblib>=0.14 in /usr/local/lib/python3.10/site-packages (from librosa) (1.3.2)\n",
      "Requirement already satisfied: typing-extensions>=4.1.1 in /usr/local/lib/python3.10/site-packages (from librosa) (4.7.1)\n",
      "Collecting lazy-loader>=0.1\n",
      "  Using cached lazy_loader-0.3-py3-none-any.whl (9.1 kB)\n",
      "Requirement already satisfied: numpy!=1.22.0,!=1.22.1,!=1.22.2,>=1.20.3 in /usr/local/lib/python3.10/site-packages (from librosa) (1.25.2)\n",
      "Requirement already satisfied: decorator>=4.3.0 in /usr/local/lib/python3.10/site-packages (from librosa) (5.1.1)\n",
      "Requirement already satisfied: scipy>=1.2.0 in /usr/local/lib/python3.10/site-packages (from librosa) (1.11.1)\n",
      "Collecting numba>=0.51.0\n",
      "  Using cached numba-0.57.1-cp310-cp310-manylinux2014_x86_64.manylinux_2_17_x86_64.whl (3.6 MB)\n",
      "Collecting soundfile>=0.12.1\n",
      "  Using cached soundfile-0.12.1-py2.py3-none-manylinux_2_31_x86_64.whl (1.2 MB)\n",
      "Collecting soxr>=0.3.2\n",
      "  Downloading soxr-0.3.6-cp310-cp310-manylinux_2_17_x86_64.manylinux2014_x86_64.whl (1.2 MB)\n",
      "\u001b[2K     \u001b[90m━━━━━━━━━━━━━━━━━━━━━━━━━━━━━━━━━━━━━━━━\u001b[0m \u001b[32m1.2/1.2 MB\u001b[0m \u001b[31m10.7 MB/s\u001b[0m eta \u001b[36m0:00:00\u001b[0m00:01\u001b[0m\n",
      "\u001b[?25hCollecting msgpack>=1.0\n",
      "  Using cached msgpack-1.0.5-cp310-cp310-manylinux_2_17_x86_64.manylinux2014_x86_64.whl (316 kB)\n",
      "Collecting audioread>=2.1.9\n",
      "  Using cached audioread-3.0.0-py3-none-any.whl\n",
      "Collecting pooch>=1.0\n",
      "  Using cached pooch-1.7.0-py3-none-any.whl (60 kB)\n",
      "Requirement already satisfied: scikit-learn>=0.20.0 in /usr/local/lib/python3.10/site-packages (from librosa) (1.3.0)\n",
      "Collecting llvmlite<0.41,>=0.40.0dev0\n",
      "  Using cached llvmlite-0.40.1-cp310-cp310-manylinux_2_17_x86_64.manylinux2014_x86_64.whl (42.1 MB)\n",
      "Collecting numpy!=1.22.0,!=1.22.1,!=1.22.2,>=1.20.3\n",
      "  Using cached numpy-1.24.4-cp310-cp310-manylinux_2_17_x86_64.manylinux2014_x86_64.whl (17.3 MB)\n",
      "Requirement already satisfied: packaging>=20.0 in /usr/local/lib/python3.10/site-packages (from pooch>=1.0->librosa) (21.3)\n",
      "Requirement already satisfied: requests>=2.19.0 in /usr/local/lib/python3.10/site-packages (from pooch>=1.0->librosa) (2.31.0)\n",
      "Requirement already satisfied: platformdirs>=2.5.0 in /usr/local/lib/python3.10/site-packages (from pooch>=1.0->librosa) (3.9.1)\n",
      "Requirement already satisfied: threadpoolctl>=2.0.0 in /usr/local/lib/python3.10/site-packages (from scikit-learn>=0.20.0->librosa) (3.2.0)\n",
      "Collecting cffi>=1.0\n",
      "  Using cached cffi-1.15.1-cp310-cp310-manylinux_2_17_x86_64.manylinux2014_x86_64.whl (441 kB)\n",
      "Collecting pycparser\n",
      "  Using cached pycparser-2.21-py2.py3-none-any.whl (118 kB)\n",
      "Requirement already satisfied: pyparsing!=3.0.5,>=2.0.2 in /usr/local/lib/python3.10/site-packages (from packaging>=20.0->pooch>=1.0->librosa) (3.1.0)\n",
      "Requirement already satisfied: charset-normalizer<4,>=2 in /usr/local/lib/python3.10/site-packages (from requests>=2.19.0->pooch>=1.0->librosa) (3.2.0)\n",
      "Requirement already satisfied: idna<4,>=2.5 in /usr/local/lib/python3.10/site-packages (from requests>=2.19.0->pooch>=1.0->librosa) (3.4)\n",
      "Requirement already satisfied: certifi>=2017.4.17 in /usr/local/lib/python3.10/site-packages (from requests>=2.19.0->pooch>=1.0->librosa) (2023.7.22)\n",
      "Requirement already satisfied: urllib3<3,>=1.21.1 in /usr/local/lib/python3.10/site-packages (from requests>=2.19.0->pooch>=1.0->librosa) (1.26.16)\n",
      "Installing collected packages: msgpack, pycparser, numpy, llvmlite, lazy-loader, audioread, soxr, pooch, numba, cffi, soundfile, librosa\n",
      "  Attempting uninstall: numpy\n",
      "    Found existing installation: numpy 1.25.2\n",
      "    Uninstalling numpy-1.25.2:\n",
      "      Successfully uninstalled numpy-1.25.2\n",
      "Successfully installed audioread-3.0.0 cffi-1.15.1 lazy-loader-0.3 librosa-0.10.1 llvmlite-0.40.1 msgpack-1.0.5 numba-0.57.1 numpy-1.24.4 pooch-1.7.0 pycparser-2.21 soundfile-0.12.1 soxr-0.3.6\n",
      "\u001b[33mWARNING: Running pip as the 'root' user can result in broken permissions and conflicting behaviour with the system package manager. It is recommended to use a virtual environment instead: https://pip.pypa.io/warnings/venv\u001b[0m\u001b[33m\n",
      "\u001b[0m\n",
      "\u001b[1m[\u001b[0m\u001b[34;49mnotice\u001b[0m\u001b[1;39;49m]\u001b[0m\u001b[39;49m A new release of pip available: \u001b[0m\u001b[31;49m22.2.2\u001b[0m\u001b[39;49m -> \u001b[0m\u001b[32;49m23.2.1\u001b[0m\n",
      "\u001b[1m[\u001b[0m\u001b[34;49mnotice\u001b[0m\u001b[1;39;49m]\u001b[0m\u001b[39;49m To update, run: \u001b[0m\u001b[32;49mpip install --upgrade pip\u001b[0m\n",
      "Note: you may need to restart the kernel to use updated packages.\n"
     ]
    }
   ],
   "source": [
    "pip install librosa"
   ]
  },
  {
   "cell_type": "code",
   "execution_count": 73,
   "id": "a4ee9f05-397b-41c9-99da-8128443f3d3a",
   "metadata": {
    "tags": []
   },
   "outputs": [],
   "source": [
    "import sys\n",
    "sys.path.append('../')\n",
    "\n",
    "import librosa\n",
    "import boto3\n",
    "import os\n",
    "from src.s3_utils import download_s3_object_to_memory, read_audio_fromS3, read_selection_table_fromS3, trim_audio_file\n",
    "import yaml\n",
    "import pandas as pd\n",
    "import soundfile as sf\n",
    "import io"
   ]
  },
  {
   "cell_type": "code",
   "execution_count": 42,
   "id": "edbe541c-28f4-469d-9c5e-cf3664c26a06",
   "metadata": {
    "tags": []
   },
   "outputs": [],
   "source": [
    "# Load the S3 credentials from a YAML file\n",
    "with open('config/connection_config.yaml', 'r') as f:\n",
    "    credentials = yaml.safe_load(f)\n",
    "\n",
    "# Extract the access key and secret access key\n",
    "access_key = credentials['access_key']\n",
    "secret_access_key = credentials['secret_access_key']\n",
    "\n",
    "# Connect to the S3 bucket\n",
    "bucket_name = 'sabah'\n",
    "s3 = boto3.client('s3', aws_access_key_id=access_key, aws_secret_access_key=secret_access_key)"
   ]
  },
  {
   "cell_type": "code",
   "execution_count": 43,
   "id": "511652ce-ffcf-4e3d-923a-b521ae7b2f87",
   "metadata": {
    "tags": []
   },
   "outputs": [
    {
     "data": {
      "text/html": [
       "<div>\n",
       "<style scoped>\n",
       "    .dataframe tbody tr th:only-of-type {\n",
       "        vertical-align: middle;\n",
       "    }\n",
       "\n",
       "    .dataframe tbody tr th {\n",
       "        vertical-align: top;\n",
       "    }\n",
       "\n",
       "    .dataframe thead th {\n",
       "        text-align: right;\n",
       "    }\n",
       "</style>\n",
       "<table border=\"1\" class=\"dataframe\">\n",
       "  <thead>\n",
       "    <tr style=\"text-align: right;\">\n",
       "      <th></th>\n",
       "      <th>selection_table</th>\n",
       "      <th>soundfile</th>\n",
       "      <th>selection_table_directory</th>\n",
       "      <th>soundfile_directory</th>\n",
       "    </tr>\n",
       "  </thead>\n",
       "  <tbody>\n",
       "    <tr>\n",
       "      <th>0</th>\n",
       "      <td>ELOC26_1677321565102_2023-03-03_08-39-25.Table...</td>\n",
       "      <td>ELOC26_1677321565102_2023-03-03_08-39-25.wav</td>\n",
       "      <td>labels/selection_tables/ELOC26_1678094402251/E...</td>\n",
       "      <td>soundfiles/ELOC26_1678094402251/ELOC26_1677321...</td>\n",
       "    </tr>\n",
       "    <tr>\n",
       "      <th>1</th>\n",
       "      <td>ELOC26_1677321565102_2023-03-03_09-39-25.Table...</td>\n",
       "      <td>ELOC26_1677321565102_2023-03-03_09-39-25.wav</td>\n",
       "      <td>labels/selection_tables/ELOC26_1678094402251/E...</td>\n",
       "      <td>soundfiles/ELOC26_1678094402251/ELOC26_1677321...</td>\n",
       "    </tr>\n",
       "    <tr>\n",
       "      <th>2</th>\n",
       "      <td>ELOC26_1677321565102_2023-03-03_10-39-25.Table...</td>\n",
       "      <td>ELOC26_1677321565102_2023-03-03_10-39-25.wav</td>\n",
       "      <td>labels/selection_tables/ELOC26_1678094402251/E...</td>\n",
       "      <td>soundfiles/ELOC26_1678094402251/ELOC26_1677321...</td>\n",
       "    </tr>\n",
       "    <tr>\n",
       "      <th>3</th>\n",
       "      <td>ELOC26_1677321565102_2023-03-03_13-39-25.Table...</td>\n",
       "      <td>ELOC26_1677321565102_2023-03-03_13-39-25.wav</td>\n",
       "      <td>labels/selection_tables/ELOC26_1678094402251/E...</td>\n",
       "      <td>soundfiles/ELOC26_1678094402251/ELOC26_1677321...</td>\n",
       "    </tr>\n",
       "    <tr>\n",
       "      <th>4</th>\n",
       "      <td>ELOC6_1678095504743_2023-03-06_11-38-25.Table....</td>\n",
       "      <td>ELOC6_1678095504743_2023-03-06_11-38-25.wav</td>\n",
       "      <td>labels/selection_tables/ELOC6_1678095504743/EL...</td>\n",
       "      <td>soundfiles/ELOC6_1678095504743/ELOC6_167809550...</td>\n",
       "    </tr>\n",
       "  </tbody>\n",
       "</table>\n",
       "</div>"
      ],
      "text/plain": [
       "                                     selection_table  \\\n",
       "0  ELOC26_1677321565102_2023-03-03_08-39-25.Table...   \n",
       "1  ELOC26_1677321565102_2023-03-03_09-39-25.Table...   \n",
       "2  ELOC26_1677321565102_2023-03-03_10-39-25.Table...   \n",
       "3  ELOC26_1677321565102_2023-03-03_13-39-25.Table...   \n",
       "4  ELOC6_1678095504743_2023-03-06_11-38-25.Table....   \n",
       "\n",
       "                                      soundfile  \\\n",
       "0  ELOC26_1677321565102_2023-03-03_08-39-25.wav   \n",
       "1  ELOC26_1677321565102_2023-03-03_09-39-25.wav   \n",
       "2  ELOC26_1677321565102_2023-03-03_10-39-25.wav   \n",
       "3  ELOC26_1677321565102_2023-03-03_13-39-25.wav   \n",
       "4   ELOC6_1678095504743_2023-03-06_11-38-25.wav   \n",
       "\n",
       "                           selection_table_directory  \\\n",
       "0  labels/selection_tables/ELOC26_1678094402251/E...   \n",
       "1  labels/selection_tables/ELOC26_1678094402251/E...   \n",
       "2  labels/selection_tables/ELOC26_1678094402251/E...   \n",
       "3  labels/selection_tables/ELOC26_1678094402251/E...   \n",
       "4  labels/selection_tables/ELOC6_1678095504743/EL...   \n",
       "\n",
       "                                 soundfile_directory  \n",
       "0  soundfiles/ELOC26_1678094402251/ELOC26_1677321...  \n",
       "1  soundfiles/ELOC26_1678094402251/ELOC26_1677321...  \n",
       "2  soundfiles/ELOC26_1678094402251/ELOC26_1677321...  \n",
       "3  soundfiles/ELOC26_1678094402251/ELOC26_1677321...  \n",
       "4  soundfiles/ELOC6_1678095504743/ELOC6_167809550...  "
      ]
     },
     "execution_count": 43,
     "metadata": {},
     "output_type": "execute_result"
    }
   ],
   "source": [
    "# create a data frame containing a referencing selection_tables (that containt labels) to the coresponding soundfile\n",
    "slctn_tbls_to_sndfls_bytes = download_s3_object_to_memory(bucket_name, 'labels/selection_tables_to_soundfiles.csv', s3)\n",
    "slctn_tbls_to_sndfls_df = pd.read_csv(slctn_tbls_to_sndfls_bytes)\n",
    "slctn_tbls_to_sndfls_df.head()"
   ]
  },
  {
   "cell_type": "code",
   "execution_count": 45,
   "id": "ce3eca93-e25a-4a9e-95eb-48ea71448b6a",
   "metadata": {
    "tags": []
   },
   "outputs": [],
   "source": [
    "client = s3"
   ]
  },
  {
   "cell_type": "code",
   "execution_count": 83,
   "id": "d341b885-b61e-4c0c-a6fe-cb7640d74f75",
   "metadata": {
    "tags": []
   },
   "outputs": [
    {
     "name": "stdout",
     "output_type": "stream",
     "text": [
      "soundfiles/ELOC26_1678094402251/ELOC26_1677321565102_2023-03-03_08-39-25.wav\n",
      "labels/selection_tables/ELOC26_1678094402251/ELOC26_1677321565102_2023-03-03_08-39-25.Table.1.selections.txt\n",
      "soundfiles_trimmed/elephant_vocalization/roar/roar_ELOC26_1677321565102_2023-03-03_08-39-25.Table.1.selections_1.wav\n",
      "soundfiles_trimmed/elephant_vocalization/longroar/longroar_ELOC26_1677321565102_2023-03-03_08-39-25.Table.1.selections_2.wav\n",
      "soundfiles/ELOC26_1678094402251/ELOC26_1677321565102_2023-03-03_09-39-25.wav\n",
      "labels/selection_tables/ELOC26_1678094402251/ELOC26_1677321565102_2023-03-03_09-39-25.Table.1.selections.txt\n",
      "soundfiles_trimmed/elephant_vocalization/longroar/longroar_ELOC26_1677321565102_2023-03-03_09-39-25.Table.1.selections_1.wav\n",
      "soundfiles_trimmed/elephant_vocalization/longroar/longroar_ELOC26_1677321565102_2023-03-03_09-39-25.Table.1.selections_2.wav\n",
      "soundfiles_trimmed/elephant_vocalization/longroar/longroar_ELOC26_1677321565102_2023-03-03_09-39-25.Table.1.selections_3.wav\n",
      "soundfiles_trimmed/elephant_vocalization/longroar/longroar_ELOC26_1677321565102_2023-03-03_09-39-25.Table.1.selections_4.wav\n",
      "soundfiles_trimmed/elephant_vocalization/longroar/longroar_ELOC26_1677321565102_2023-03-03_09-39-25.Table.1.selections_5.wav\n",
      "soundfiles/ELOC26_1678094402251/ELOC26_1677321565102_2023-03-03_10-39-25.wav\n",
      "labels/selection_tables/ELOC26_1678094402251/ELOC26_1677321565102_2023-03-03_10-39-25.Table.1.selections.txt\n",
      "soundfiles_trimmed/elephant_vocalization/roar_rumble/roar_rumble_ELOC26_1677321565102_2023-03-03_10-39-25.Table.1.selections_1.wav\n",
      "soundfiles_trimmed/elephant_vocalization/longroar/longroar_ELOC26_1677321565102_2023-03-03_10-39-25.Table.1.selections_2.wav\n",
      "soundfiles/ELOC26_1678094402251/ELOC26_1677321565102_2023-03-03_13-39-25.wav\n",
      "labels/selection_tables/ELOC26_1678094402251/ELOC26_1677321565102_2023-03-03_13-39-25.Table.1.selections.txt\n",
      "soundfiles_trimmed/elephant_vocalization/roar_rumble/roar_rumble_ELOC26_1677321565102_2023-03-03_13-39-25.Table.1.selections_1.wav\n",
      "soundfiles_trimmed/elephant_vocalization/roar/roar_ELOC26_1677321565102_2023-03-03_13-39-25.Table.1.selections_2.wav\n",
      "soundfiles_trimmed/elephant_vocalization/roar/roar_ELOC26_1677321565102_2023-03-03_13-39-25.Table.1.selections_3.wav\n",
      "soundfiles_trimmed/elephant_vocalization/longroar/longroar_ELOC26_1677321565102_2023-03-03_13-39-25.Table.1.selections_4.wav\n",
      "soundfiles/ELOC6_1678095504743/ELOC6_1678095504743_2023-03-06_11-38-25.wav\n",
      "labels/selection_tables/ELOC6_1678095504743/ELOC6_1678095504743_2023-03-06_11-38-25.Table.1.selections.txt\n",
      "soundfiles_trimmed/elephant_vocalization/roar/roar_ELOC6_1678095504743_2023-03-06_11-38-25.Table.1.selections_1.wav\n",
      "soundfiles_trimmed/elephant_sound/snort/snort_ELOC6_1678095504743_2023-03-06_11-38-25.Table.1.selections_2.wav\n",
      "soundfiles/ELOC6_1678095504743/ELOC6_1678095504743_2023-03-13_01-38-25.wav\n",
      "labels/selection_tables/ELOC6_1678095504743/ELOC6_1678095504743_2023-03-13_01-38-25.Table.1.selections.txt\n",
      "soundfiles_trimmed/elephant_sound/snort/snort_ELOC6_1678095504743_2023-03-13_01-38-25.Table.1.selections_1.wav\n",
      "soundfiles/ELOC6_1678095504743/ELOC6_1678095504743_2023-03-13_06-38-25.wav\n",
      "labels/selection_tables/ELOC6_1678095504743/ELOC6_1678095504743_2023-03-13_06-38-25.Table.1.selections.txt\n",
      "soundfiles_trimmed/elephant_vocalization/growl/growl_ELOC6_1678095504743_2023-03-13_06-38-25.Table.1.selections_1.wav\n",
      "soundfiles/ELOC6_1678972274667/ELOC6_1678972274667_2023-03-16_13-11-15.wav\n",
      "labels/selection_tables/ELOC6_1678972274667/ELOC6_1678972274667_2023-03-16_13-11-15.Table.1.selections.txt\n",
      "soundfiles_trimmed/elephant_vocalization/rumble/rumble_ELOC6_1678972274667_2023-03-16_13-11-15.Table.1.selections_2.wav\n",
      "soundfiles_trimmed/elephant_vocalization/growl/growl_ELOC6_1678972274667_2023-03-16_13-11-15.Table.1.selections_3.wav\n",
      "soundfiles_trimmed/elephant_vocalization/roar/roar_ELOC6_1678972274667_2023-03-16_13-11-15.Table.1.selections_4.wav\n",
      "soundfiles_trimmed/elephant_vocalization/roar/roar_ELOC6_1678972274667_2023-03-16_13-11-15.Table.1.selections_5.wav\n",
      "soundfiles_trimmed/elephant_vocalization/longroar/longroar_ELOC6_1678972274667_2023-03-16_13-11-15.Table.1.selections_6.wav\n",
      "soundfiles_trimmed/elephant_vocalization/longroar/longroar_ELOC6_1678972274667_2023-03-16_13-11-15.Table.1.selections_7.wav\n",
      "soundfiles/ELOC6_1678972274667/ELOC6_1678972274667_2023-03-16_14-11-15.wav\n",
      "labels/selection_tables/ELOC6_1678972274667/ELOC6_1678972274667_2023-03-16_14-11-15.Table.1.selections.txt\n",
      "soundfiles_trimmed/elephant_vocalization/trumpet/trumpet_ELOC6_1678972274667_2023-03-16_14-11-15.Table.1.selections_1.wav\n",
      "soundfiles_trimmed/elephant_vocalization/rumble/rumble_ELOC6_1678972274667_2023-03-16_14-11-15.Table.1.selections_2.wav\n",
      "soundfiles_trimmed/elephant_sound/snort/snort_ELOC6_1678972274667_2023-03-16_14-11-15.Table.1.selections_3.wav\n",
      "soundfiles_trimmed/elephant_sound/snort/snort_ELOC6_1678972274667_2023-03-16_14-11-15.Table.1.selections_4.wav\n",
      "soundfiles_trimmed/elephant_vocalization/longroar/longroar_ELOC6_1678972274667_2023-03-16_14-11-15.Table.1.selections_5.wav\n",
      "soundfiles_trimmed/elephant_vocalization/roar/roar_ELOC6_1678972274667_2023-03-16_14-11-15.Table.1.selections_6.wav\n",
      "soundfiles_trimmed/elephant_vocalization/roar/roar_ELOC6_1678972274667_2023-03-16_14-11-15.Table.1.selections_7.wav\n",
      "soundfiles_trimmed/elephant_vocalization/longroar/longroar_ELOC6_1678972274667_2023-03-16_14-11-15.Table.1.selections_8.wav\n",
      "soundfiles_trimmed/elephant_vocalization/roar/roar_ELOC6_1678972274667_2023-03-16_14-11-15.Table.1.selections_9.wav\n",
      "soundfiles_trimmed/elephant_vocalization/longroar/longroar_ELOC6_1678972274667_2023-03-16_14-11-15.Table.1.selections_10.wav\n",
      "soundfiles_trimmed/elephant_vocalization/roar/roar_ELOC6_1678972274667_2023-03-16_14-11-15.Table.1.selections_11.wav\n",
      "soundfiles/ELOC6_1678972274667/ELOC6_1678972274667_2023-03-16_15-11-15.wav\n",
      "labels/selection_tables/ELOC6_1678972274667/ELOC6_1678972274667_2023-03-16_15-11-15.Table.1.selections.txt\n",
      "soundfiles_trimmed/elephant_vocalization/longroar/longroar_ELOC6_1678972274667_2023-03-16_15-11-15.Table.1.selections_1.wav\n",
      "soundfiles/ELOC6_1678972274667/ELOC6_1678972274667_2023-03-16_16-11-15.wav\n",
      "labels/selection_tables/ELOC6_1678972274667/ELOC6_1678972274667_2023-03-16_16-11-15.Table.1.selections.txt\n",
      "soundfiles_trimmed/elephant_vocalization/roar/roar_ELOC6_1678972274667_2023-03-16_16-11-15.Table.1.selections_3.wav\n",
      "soundfiles_trimmed/elephant_vocalization/trumpet/trumpet_ELOC6_1678972274667_2023-03-16_16-11-15.Table.1.selections_4.wav\n",
      "soundfiles_trimmed/elephant_vocalization/roar/roar_ELOC6_1678972274667_2023-03-16_16-11-15.Table.1.selections_5.wav\n",
      "soundfiles_trimmed/elephant_vocalization/rumble/rumble_ELOC6_1678972274667_2023-03-16_16-11-15.Table.1.selections_6.wav\n",
      "soundfiles_trimmed/elephant_vocalization/roar/roar_ELOC6_1678972274667_2023-03-16_16-11-15.Table.1.selections_7.wav\n",
      "soundfiles_trimmed/elephant_vocalization/growl/growl_ELOC6_1678972274667_2023-03-16_16-11-15.Table.1.selections_8.wav\n",
      "soundfiles_trimmed/elephant_vocalization/trumpet/trumpet_ELOC6_1678972274667_2023-03-16_16-11-15.Table.1.selections_9.wav\n",
      "soundfiles_trimmed/elephant_vocalization/rumble/rumble_ELOC6_1678972274667_2023-03-16_16-11-15.Table.1.selections_10.wav\n",
      "soundfiles_trimmed/elephant_vocalization/trumpet/trumpet_ELOC6_1678972274667_2023-03-16_16-11-15.Table.1.selections_11.wav\n",
      "soundfiles_trimmed/elephant_vocalization/roar/roar_ELOC6_1678972274667_2023-03-16_16-11-15.Table.1.selections_12.wav\n",
      "soundfiles/Eloc1_1677333803018/Eloc1_1677333803018_2023-02-26_21-03-23.wav\n",
      "labels/selection_tables/Eloc1_1677333803018/Eloc1_1677333803018_2023-02-26_21-03-23.Table.1.selections.txt\n",
      "soundfiles_trimmed/elephant_vocalization/roar/roar_Eloc1_1677333803018_2023-02-26_21-03-23.Table.1.selections_2.wav\n",
      "soundfiles_trimmed/elephant_vocalization/trumpet/trumpet_Eloc1_1677333803018_2023-02-26_21-03-23.Table.1.selections_3.wav\n",
      "soundfiles_trimmed/elephant_vocalization/trumpet/trumpet_Eloc1_1677333803018_2023-02-26_21-03-23.Table.1.selections_4.wav\n",
      "soundfiles_trimmed/elephant_vocalization/trumpet/trumpet_Eloc1_1677333803018_2023-02-26_21-03-23.Table.1.selections_5.wav\n",
      "soundfiles_trimmed/elephant_vocalization/growl/growl_Eloc1_1677333803018_2023-02-26_21-03-23.Table.1.selections_6.wav\n",
      "soundfiles_trimmed/elephant_vocalization/growl/growl_Eloc1_1677333803018_2023-02-26_21-03-23.Table.1.selections_7.wav\n",
      "soundfiles_trimmed/elephant_vocalization/growl/growl_Eloc1_1677333803018_2023-02-26_21-03-23.Table.1.selections_8.wav\n",
      "soundfiles_trimmed/elephant_vocalization/trumpet/trumpet_Eloc1_1677333803018_2023-02-26_21-03-23.Table.1.selections_9.wav\n",
      "soundfiles_trimmed/elephant_vocalization/trumpet/trumpet_Eloc1_1677333803018_2023-02-26_21-03-23.Table.1.selections_10.wav\n",
      "soundfiles/Eloc1_1677333803018/Eloc1_1677333803018_2023-02-26_23-03-23.wav\n",
      "labels/selection_tables/Eloc1_1677333803018/Eloc1_1677333803018_2023-02-26_23-03-23.Table.1.selections.txt\n",
      "soundfiles_trimmed/elephant_vocalization/trumpet/trumpet_Eloc1_1677333803018_2023-02-26_23-03-23.Table.1.selections_1.wav\n",
      "soundfiles_trimmed/elephant_vocalization/bark/bark_Eloc1_1677333803018_2023-02-26_23-03-23.Table.1.selections_2.wav\n",
      "soundfiles_trimmed/elephant_vocalization/rumble/rumble_Eloc1_1677333803018_2023-02-26_23-03-23.Table.1.selections_3.wav\n",
      "soundfiles_trimmed/elephant_vocalization/rumble/rumble_Eloc1_1677333803018_2023-02-26_23-03-23.Table.1.selections_4.wav\n",
      "soundfiles_trimmed/elephant_vocalization/trumpet/trumpet_Eloc1_1677333803018_2023-02-26_23-03-23.Table.1.selections_5.wav\n",
      "soundfiles_trimmed/elephant_vocalization/trumpet/trumpet_Eloc1_1677333803018_2023-02-26_23-03-23.Table.1.selections_6.wav\n",
      "soundfiles_trimmed/elephant_vocalization/longroar/longroar_Eloc1_1677333803018_2023-02-26_23-03-23.Table.1.selections_10.wav\n",
      "soundfiles_trimmed/elephant_vocalization/longroar/longroar_Eloc1_1677333803018_2023-02-26_23-03-23.Table.1.selections_11.wav\n",
      "soundfiles_trimmed/elephant_vocalization/trumpet/trumpet_Eloc1_1677333803018_2023-02-26_23-03-23.Table.1.selections_13.wav\n",
      "soundfiles_trimmed/elephant_vocalization/trumpet/trumpet_Eloc1_1677333803018_2023-02-26_23-03-23.Table.1.selections_14.wav\n",
      "soundfiles_trimmed/elephant_vocalization/trumpet/trumpet_Eloc1_1677333803018_2023-02-26_23-03-23.Table.1.selections_15.wav\n",
      "soundfiles_trimmed/elephant_vocalization/trumpet/trumpet_Eloc1_1677333803018_2023-02-26_23-03-23.Table.1.selections_16.wav\n",
      "soundfiles_trimmed/elephant_vocalization/trumpet/trumpet_Eloc1_1677333803018_2023-02-26_23-03-23.Table.1.selections_17.wav\n",
      "soundfiles/Eloc1_1677333803018/Eloc1_1677333803018_2023-02-27_00-03-23.wav\n",
      "labels/selection_tables/Eloc1_1677333803018/Eloc1_1677333803018_2023-02-27_00-03-23.Table.1.selections.txt\n",
      "soundfiles_trimmed/elephant_vocalization/rumble/rumble_Eloc1_1677333803018_2023-02-27_00-03-23.Table.1.selections_15.wav\n",
      "soundfiles_trimmed/elephant_sound/snort/snort_Eloc1_1677333803018_2023-02-27_00-03-23.Table.1.selections_6.wav\n",
      "soundfiles_trimmed/elephant_vocalization/bark/bark_Eloc1_1677333803018_2023-02-27_00-03-23.Table.1.selections_12.wav\n",
      "soundfiles_trimmed/elephant_vocalization/bark/bark_Eloc1_1677333803018_2023-02-27_00-03-23.Table.1.selections_9.wav\n",
      "soundfiles_trimmed/elephant_vocalization/trumpet/trumpet_Eloc1_1677333803018_2023-02-27_00-03-23.Table.1.selections_3.wav\n",
      "soundfiles_trimmed/elephant_vocalization/roar_rumble/roar_rumble_Eloc1_1677333803018_2023-02-27_00-03-23.Table.1.selections_11.wav\n",
      "soundfiles_trimmed/elephant_vocalization/trumpet/trumpet_Eloc1_1677333803018_2023-02-27_00-03-23.Table.1.selections_2.wav\n",
      "soundfiles_trimmed/elephant_vocalization/roar/roar_Eloc1_1677333803018_2023-02-27_00-03-23.Table.1.selections_10.wav\n",
      "soundfiles_trimmed/elephant_vocalization/roar/roar_Eloc1_1677333803018_2023-02-27_00-03-23.Table.1.selections_5.wav\n",
      "soundfiles_trimmed/elephant_vocalization/trumpet/trumpet_Eloc1_1677333803018_2023-02-27_00-03-23.Table.1.selections_1.wav\n",
      "soundfiles_trimmed/elephant_vocalization/trumpet/trumpet_Eloc1_1677333803018_2023-02-27_00-03-23.Table.1.selections_4.wav\n",
      "soundfiles/Eloc1_1677333803018/Eloc1_1677333803018_2023-02-27_01-03-23.wav\n",
      "labels/selection_tables/Eloc1_1677333803018/Eloc1_1677333803018_2023-02-27_01-03-23.Table.1.selections.txt\n",
      "soundfiles_trimmed/elephant_vocalization/trumpet/trumpet_Eloc1_1677333803018_2023-02-27_01-03-23.Table.1.selections_1.wav\n",
      "soundfiles_trimmed/elephant_vocalization/trumpet/trumpet_Eloc1_1677333803018_2023-02-27_01-03-23.Table.1.selections_2.wav\n",
      "soundfiles/Eloc1_1677333803018/Eloc1_1677333803018_2023-02-27_04-03-23.wav\n",
      "labels/selection_tables/Eloc1_1677333803018/Eloc1_1677333803018_2023-02-27_04-03-23.Table.1.selections.txt\n",
      "soundfiles_trimmed/elephant_vocalization/roar/roar_Eloc1_1677333803018_2023-02-27_04-03-23.Table.1.selections_1.wav\n",
      "soundfiles/Eloc1_1677333803018/Eloc1_1677333803018_2023-02-27_19-03-23.wav\n",
      "labels/selection_tables/Eloc1_1677333803018/Eloc1_1677333803018_2023-02-27_19-03-23.Table.1.selections.txt\n",
      "soundfiles_trimmed/elephant_vocalization/growl/growl_Eloc1_1677333803018_2023-02-27_19-03-23.Table.1.selections_1.wav\n",
      "soundfiles_trimmed/elephant_vocalization/rumble/rumble_Eloc1_1677333803018_2023-02-27_19-03-23.Table.1.selections_2.wav\n",
      "soundfiles_trimmed/elephant_vocalization/roar_rumble/roar_rumble_Eloc1_1677333803018_2023-02-27_19-03-23.Table.1.selections_3.wav\n"
     ]
    }
   ],
   "source": [
    "for i, row in slctn_tbls_to_sndfls_df.iterrows():\n",
    "    # read the audio file\n",
    "    audio_file_path = row['soundfile_directory']\n",
    "    audio, sr = read_audio_fromS3(audio_file_path, bucket_name, client) \n",
    "    # read the selection table\n",
    "    selection_table_path = row['selection_table_directory']\n",
    "    selection_table = read_selection_table_fromS3(selection_table_path, bucket_name, client)\n",
    "    \n",
    "    for i, label in selection_table.iterrows():\n",
    "        start, end = label[\"Begin Time (s)\"], label[\"End Time (s)\"]\n",
    "        clip = trim_audio_file(audio, start, end, sr)\n",
    "        sound_category = label['sound_category']\n",
    "        sound_type = label['sound_type']\n",
    "        label_id = label[\"label_id\"]\n",
    "        \n",
    "        output_dir = f\"soundfiles_trimmed/{sound_category}/{sound_type}/\"\n",
    "        \n",
    "        filename = f\"{label_id}.wav\"  # Name the file using label_id\n",
    "        output_path = os.path.join(output_dir, filename)\n",
    "        \n",
    "        with io.BytesIO() as audio_file:\n",
    "            sf.write(audio_file, clip, sr, format='WAV', subtype='PCM_24')\n",
    "            audio_file.seek(0)\n",
    "            print(output_path)\n",
    "            # Upload the audio file to S3\n",
    "            s3.upload_fileobj(audio_file, bucket_name, output_path, ExtraArgs={'ContentType': \"audio/wav\"})   "
   ]
  },
  {
   "cell_type": "code",
   "execution_count": 63,
   "id": "248f29b9-6f67-4d4a-b585-1cf4f2ca9995",
   "metadata": {
    "tags": []
   },
   "outputs": [
    {
     "data": {
      "text/plain": [
       "3.888375"
      ]
     },
     "execution_count": 63,
     "metadata": {},
     "output_type": "execute_result"
    }
   ],
   "source": [
    "len(clip)/16000"
   ]
  },
  {
   "cell_type": "code",
   "execution_count": 81,
   "id": "3a325b78-c65e-4fb2-99ab-aeaf2891ee40",
   "metadata": {
    "tags": []
   },
   "outputs": [
    {
     "data": {
      "text/plain": [
       "'sabah'"
      ]
     },
     "execution_count": 81,
     "metadata": {},
     "output_type": "execute_result"
    }
   ],
   "source": [
    "bucket_name"
   ]
  }
 ],
 "metadata": {
  "availableInstances": [
   {
    "_defaultOrder": 0,
    "_isFastLaunch": true,
    "category": "General purpose",
    "gpuNum": 0,
    "hideHardwareSpecs": false,
    "memoryGiB": 4,
    "name": "ml.t3.medium",
    "vcpuNum": 2
   },
   {
    "_defaultOrder": 1,
    "_isFastLaunch": false,
    "category": "General purpose",
    "gpuNum": 0,
    "hideHardwareSpecs": false,
    "memoryGiB": 8,
    "name": "ml.t3.large",
    "vcpuNum": 2
   },
   {
    "_defaultOrder": 2,
    "_isFastLaunch": false,
    "category": "General purpose",
    "gpuNum": 0,
    "hideHardwareSpecs": false,
    "memoryGiB": 16,
    "name": "ml.t3.xlarge",
    "vcpuNum": 4
   },
   {
    "_defaultOrder": 3,
    "_isFastLaunch": false,
    "category": "General purpose",
    "gpuNum": 0,
    "hideHardwareSpecs": false,
    "memoryGiB": 32,
    "name": "ml.t3.2xlarge",
    "vcpuNum": 8
   },
   {
    "_defaultOrder": 4,
    "_isFastLaunch": true,
    "category": "General purpose",
    "gpuNum": 0,
    "hideHardwareSpecs": false,
    "memoryGiB": 8,
    "name": "ml.m5.large",
    "vcpuNum": 2
   },
   {
    "_defaultOrder": 5,
    "_isFastLaunch": false,
    "category": "General purpose",
    "gpuNum": 0,
    "hideHardwareSpecs": false,
    "memoryGiB": 16,
    "name": "ml.m5.xlarge",
    "vcpuNum": 4
   },
   {
    "_defaultOrder": 6,
    "_isFastLaunch": false,
    "category": "General purpose",
    "gpuNum": 0,
    "hideHardwareSpecs": false,
    "memoryGiB": 32,
    "name": "ml.m5.2xlarge",
    "vcpuNum": 8
   },
   {
    "_defaultOrder": 7,
    "_isFastLaunch": false,
    "category": "General purpose",
    "gpuNum": 0,
    "hideHardwareSpecs": false,
    "memoryGiB": 64,
    "name": "ml.m5.4xlarge",
    "vcpuNum": 16
   },
   {
    "_defaultOrder": 8,
    "_isFastLaunch": false,
    "category": "General purpose",
    "gpuNum": 0,
    "hideHardwareSpecs": false,
    "memoryGiB": 128,
    "name": "ml.m5.8xlarge",
    "vcpuNum": 32
   },
   {
    "_defaultOrder": 9,
    "_isFastLaunch": false,
    "category": "General purpose",
    "gpuNum": 0,
    "hideHardwareSpecs": false,
    "memoryGiB": 192,
    "name": "ml.m5.12xlarge",
    "vcpuNum": 48
   },
   {
    "_defaultOrder": 10,
    "_isFastLaunch": false,
    "category": "General purpose",
    "gpuNum": 0,
    "hideHardwareSpecs": false,
    "memoryGiB": 256,
    "name": "ml.m5.16xlarge",
    "vcpuNum": 64
   },
   {
    "_defaultOrder": 11,
    "_isFastLaunch": false,
    "category": "General purpose",
    "gpuNum": 0,
    "hideHardwareSpecs": false,
    "memoryGiB": 384,
    "name": "ml.m5.24xlarge",
    "vcpuNum": 96
   },
   {
    "_defaultOrder": 12,
    "_isFastLaunch": false,
    "category": "General purpose",
    "gpuNum": 0,
    "hideHardwareSpecs": false,
    "memoryGiB": 8,
    "name": "ml.m5d.large",
    "vcpuNum": 2
   },
   {
    "_defaultOrder": 13,
    "_isFastLaunch": false,
    "category": "General purpose",
    "gpuNum": 0,
    "hideHardwareSpecs": false,
    "memoryGiB": 16,
    "name": "ml.m5d.xlarge",
    "vcpuNum": 4
   },
   {
    "_defaultOrder": 14,
    "_isFastLaunch": false,
    "category": "General purpose",
    "gpuNum": 0,
    "hideHardwareSpecs": false,
    "memoryGiB": 32,
    "name": "ml.m5d.2xlarge",
    "vcpuNum": 8
   },
   {
    "_defaultOrder": 15,
    "_isFastLaunch": false,
    "category": "General purpose",
    "gpuNum": 0,
    "hideHardwareSpecs": false,
    "memoryGiB": 64,
    "name": "ml.m5d.4xlarge",
    "vcpuNum": 16
   },
   {
    "_defaultOrder": 16,
    "_isFastLaunch": false,
    "category": "General purpose",
    "gpuNum": 0,
    "hideHardwareSpecs": false,
    "memoryGiB": 128,
    "name": "ml.m5d.8xlarge",
    "vcpuNum": 32
   },
   {
    "_defaultOrder": 17,
    "_isFastLaunch": false,
    "category": "General purpose",
    "gpuNum": 0,
    "hideHardwareSpecs": false,
    "memoryGiB": 192,
    "name": "ml.m5d.12xlarge",
    "vcpuNum": 48
   },
   {
    "_defaultOrder": 18,
    "_isFastLaunch": false,
    "category": "General purpose",
    "gpuNum": 0,
    "hideHardwareSpecs": false,
    "memoryGiB": 256,
    "name": "ml.m5d.16xlarge",
    "vcpuNum": 64
   },
   {
    "_defaultOrder": 19,
    "_isFastLaunch": false,
    "category": "General purpose",
    "gpuNum": 0,
    "hideHardwareSpecs": false,
    "memoryGiB": 384,
    "name": "ml.m5d.24xlarge",
    "vcpuNum": 96
   },
   {
    "_defaultOrder": 20,
    "_isFastLaunch": false,
    "category": "General purpose",
    "gpuNum": 0,
    "hideHardwareSpecs": true,
    "memoryGiB": 0,
    "name": "ml.geospatial.interactive",
    "supportedImageNames": [
     "sagemaker-geospatial-v1-0"
    ],
    "vcpuNum": 0
   },
   {
    "_defaultOrder": 21,
    "_isFastLaunch": true,
    "category": "Compute optimized",
    "gpuNum": 0,
    "hideHardwareSpecs": false,
    "memoryGiB": 4,
    "name": "ml.c5.large",
    "vcpuNum": 2
   },
   {
    "_defaultOrder": 22,
    "_isFastLaunch": false,
    "category": "Compute optimized",
    "gpuNum": 0,
    "hideHardwareSpecs": false,
    "memoryGiB": 8,
    "name": "ml.c5.xlarge",
    "vcpuNum": 4
   },
   {
    "_defaultOrder": 23,
    "_isFastLaunch": false,
    "category": "Compute optimized",
    "gpuNum": 0,
    "hideHardwareSpecs": false,
    "memoryGiB": 16,
    "name": "ml.c5.2xlarge",
    "vcpuNum": 8
   },
   {
    "_defaultOrder": 24,
    "_isFastLaunch": false,
    "category": "Compute optimized",
    "gpuNum": 0,
    "hideHardwareSpecs": false,
    "memoryGiB": 32,
    "name": "ml.c5.4xlarge",
    "vcpuNum": 16
   },
   {
    "_defaultOrder": 25,
    "_isFastLaunch": false,
    "category": "Compute optimized",
    "gpuNum": 0,
    "hideHardwareSpecs": false,
    "memoryGiB": 72,
    "name": "ml.c5.9xlarge",
    "vcpuNum": 36
   },
   {
    "_defaultOrder": 26,
    "_isFastLaunch": false,
    "category": "Compute optimized",
    "gpuNum": 0,
    "hideHardwareSpecs": false,
    "memoryGiB": 96,
    "name": "ml.c5.12xlarge",
    "vcpuNum": 48
   },
   {
    "_defaultOrder": 27,
    "_isFastLaunch": false,
    "category": "Compute optimized",
    "gpuNum": 0,
    "hideHardwareSpecs": false,
    "memoryGiB": 144,
    "name": "ml.c5.18xlarge",
    "vcpuNum": 72
   },
   {
    "_defaultOrder": 28,
    "_isFastLaunch": false,
    "category": "Compute optimized",
    "gpuNum": 0,
    "hideHardwareSpecs": false,
    "memoryGiB": 192,
    "name": "ml.c5.24xlarge",
    "vcpuNum": 96
   },
   {
    "_defaultOrder": 29,
    "_isFastLaunch": true,
    "category": "Accelerated computing",
    "gpuNum": 1,
    "hideHardwareSpecs": false,
    "memoryGiB": 16,
    "name": "ml.g4dn.xlarge",
    "vcpuNum": 4
   },
   {
    "_defaultOrder": 30,
    "_isFastLaunch": false,
    "category": "Accelerated computing",
    "gpuNum": 1,
    "hideHardwareSpecs": false,
    "memoryGiB": 32,
    "name": "ml.g4dn.2xlarge",
    "vcpuNum": 8
   },
   {
    "_defaultOrder": 31,
    "_isFastLaunch": false,
    "category": "Accelerated computing",
    "gpuNum": 1,
    "hideHardwareSpecs": false,
    "memoryGiB": 64,
    "name": "ml.g4dn.4xlarge",
    "vcpuNum": 16
   },
   {
    "_defaultOrder": 32,
    "_isFastLaunch": false,
    "category": "Accelerated computing",
    "gpuNum": 1,
    "hideHardwareSpecs": false,
    "memoryGiB": 128,
    "name": "ml.g4dn.8xlarge",
    "vcpuNum": 32
   },
   {
    "_defaultOrder": 33,
    "_isFastLaunch": false,
    "category": "Accelerated computing",
    "gpuNum": 4,
    "hideHardwareSpecs": false,
    "memoryGiB": 192,
    "name": "ml.g4dn.12xlarge",
    "vcpuNum": 48
   },
   {
    "_defaultOrder": 34,
    "_isFastLaunch": false,
    "category": "Accelerated computing",
    "gpuNum": 1,
    "hideHardwareSpecs": false,
    "memoryGiB": 256,
    "name": "ml.g4dn.16xlarge",
    "vcpuNum": 64
   },
   {
    "_defaultOrder": 35,
    "_isFastLaunch": false,
    "category": "Accelerated computing",
    "gpuNum": 1,
    "hideHardwareSpecs": false,
    "memoryGiB": 61,
    "name": "ml.p3.2xlarge",
    "vcpuNum": 8
   },
   {
    "_defaultOrder": 36,
    "_isFastLaunch": false,
    "category": "Accelerated computing",
    "gpuNum": 4,
    "hideHardwareSpecs": false,
    "memoryGiB": 244,
    "name": "ml.p3.8xlarge",
    "vcpuNum": 32
   },
   {
    "_defaultOrder": 37,
    "_isFastLaunch": false,
    "category": "Accelerated computing",
    "gpuNum": 8,
    "hideHardwareSpecs": false,
    "memoryGiB": 488,
    "name": "ml.p3.16xlarge",
    "vcpuNum": 64
   },
   {
    "_defaultOrder": 38,
    "_isFastLaunch": false,
    "category": "Accelerated computing",
    "gpuNum": 8,
    "hideHardwareSpecs": false,
    "memoryGiB": 768,
    "name": "ml.p3dn.24xlarge",
    "vcpuNum": 96
   },
   {
    "_defaultOrder": 39,
    "_isFastLaunch": false,
    "category": "Memory Optimized",
    "gpuNum": 0,
    "hideHardwareSpecs": false,
    "memoryGiB": 16,
    "name": "ml.r5.large",
    "vcpuNum": 2
   },
   {
    "_defaultOrder": 40,
    "_isFastLaunch": false,
    "category": "Memory Optimized",
    "gpuNum": 0,
    "hideHardwareSpecs": false,
    "memoryGiB": 32,
    "name": "ml.r5.xlarge",
    "vcpuNum": 4
   },
   {
    "_defaultOrder": 41,
    "_isFastLaunch": false,
    "category": "Memory Optimized",
    "gpuNum": 0,
    "hideHardwareSpecs": false,
    "memoryGiB": 64,
    "name": "ml.r5.2xlarge",
    "vcpuNum": 8
   },
   {
    "_defaultOrder": 42,
    "_isFastLaunch": false,
    "category": "Memory Optimized",
    "gpuNum": 0,
    "hideHardwareSpecs": false,
    "memoryGiB": 128,
    "name": "ml.r5.4xlarge",
    "vcpuNum": 16
   },
   {
    "_defaultOrder": 43,
    "_isFastLaunch": false,
    "category": "Memory Optimized",
    "gpuNum": 0,
    "hideHardwareSpecs": false,
    "memoryGiB": 256,
    "name": "ml.r5.8xlarge",
    "vcpuNum": 32
   },
   {
    "_defaultOrder": 44,
    "_isFastLaunch": false,
    "category": "Memory Optimized",
    "gpuNum": 0,
    "hideHardwareSpecs": false,
    "memoryGiB": 384,
    "name": "ml.r5.12xlarge",
    "vcpuNum": 48
   },
   {
    "_defaultOrder": 45,
    "_isFastLaunch": false,
    "category": "Memory Optimized",
    "gpuNum": 0,
    "hideHardwareSpecs": false,
    "memoryGiB": 512,
    "name": "ml.r5.16xlarge",
    "vcpuNum": 64
   },
   {
    "_defaultOrder": 46,
    "_isFastLaunch": false,
    "category": "Memory Optimized",
    "gpuNum": 0,
    "hideHardwareSpecs": false,
    "memoryGiB": 768,
    "name": "ml.r5.24xlarge",
    "vcpuNum": 96
   },
   {
    "_defaultOrder": 47,
    "_isFastLaunch": false,
    "category": "Accelerated computing",
    "gpuNum": 1,
    "hideHardwareSpecs": false,
    "memoryGiB": 16,
    "name": "ml.g5.xlarge",
    "vcpuNum": 4
   },
   {
    "_defaultOrder": 48,
    "_isFastLaunch": false,
    "category": "Accelerated computing",
    "gpuNum": 1,
    "hideHardwareSpecs": false,
    "memoryGiB": 32,
    "name": "ml.g5.2xlarge",
    "vcpuNum": 8
   },
   {
    "_defaultOrder": 49,
    "_isFastLaunch": false,
    "category": "Accelerated computing",
    "gpuNum": 1,
    "hideHardwareSpecs": false,
    "memoryGiB": 64,
    "name": "ml.g5.4xlarge",
    "vcpuNum": 16
   },
   {
    "_defaultOrder": 50,
    "_isFastLaunch": false,
    "category": "Accelerated computing",
    "gpuNum": 1,
    "hideHardwareSpecs": false,
    "memoryGiB": 128,
    "name": "ml.g5.8xlarge",
    "vcpuNum": 32
   },
   {
    "_defaultOrder": 51,
    "_isFastLaunch": false,
    "category": "Accelerated computing",
    "gpuNum": 1,
    "hideHardwareSpecs": false,
    "memoryGiB": 256,
    "name": "ml.g5.16xlarge",
    "vcpuNum": 64
   },
   {
    "_defaultOrder": 52,
    "_isFastLaunch": false,
    "category": "Accelerated computing",
    "gpuNum": 4,
    "hideHardwareSpecs": false,
    "memoryGiB": 192,
    "name": "ml.g5.12xlarge",
    "vcpuNum": 48
   },
   {
    "_defaultOrder": 53,
    "_isFastLaunch": false,
    "category": "Accelerated computing",
    "gpuNum": 4,
    "hideHardwareSpecs": false,
    "memoryGiB": 384,
    "name": "ml.g5.24xlarge",
    "vcpuNum": 96
   },
   {
    "_defaultOrder": 54,
    "_isFastLaunch": false,
    "category": "Accelerated computing",
    "gpuNum": 8,
    "hideHardwareSpecs": false,
    "memoryGiB": 768,
    "name": "ml.g5.48xlarge",
    "vcpuNum": 192
   },
   {
    "_defaultOrder": 55,
    "_isFastLaunch": false,
    "category": "Accelerated computing",
    "gpuNum": 8,
    "hideHardwareSpecs": false,
    "memoryGiB": 1152,
    "name": "ml.p4d.24xlarge",
    "vcpuNum": 96
   },
   {
    "_defaultOrder": 56,
    "_isFastLaunch": false,
    "category": "Accelerated computing",
    "gpuNum": 8,
    "hideHardwareSpecs": false,
    "memoryGiB": 1152,
    "name": "ml.p4de.24xlarge",
    "vcpuNum": 96
   }
  ],
  "instance_type": "ml.t3.medium",
  "kernelspec": {
   "display_name": "Python 3 (Base Python 3.0)",
   "language": "python",
   "name": "python3__SAGEMAKER_INTERNAL__arn:aws:sagemaker:ap-southeast-1:492261229750:image/sagemaker-base-python-310-v1"
  },
  "language_info": {
   "codemirror_mode": {
    "name": "ipython",
    "version": 3
   },
   "file_extension": ".py",
   "mimetype": "text/x-python",
   "name": "python",
   "nbconvert_exporter": "python",
   "pygments_lexer": "ipython3",
   "version": "3.10.8"
  }
 },
 "nbformat": 4,
 "nbformat_minor": 5
}

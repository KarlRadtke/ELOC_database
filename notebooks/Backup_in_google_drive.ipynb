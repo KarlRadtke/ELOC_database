{
  "nbformat": 4,
  "nbformat_minor": 0,
  "metadata": {
    "colab": {
      "provenance": [],
      "mount_file_id": "115PeB9SLbwTjIWZBHDuM6P1yOJ6AVOp1",
      "authorship_tag": "ABX9TyP5tPF3Mv4Ei3wVlhMowLUu",
      "include_colab_link": true
    },
    "kernelspec": {
      "name": "python3",
      "display_name": "Python 3"
    },
    "language_info": {
      "name": "python"
    },
    "widgets": {
      "application/vnd.jupyter.widget-state+json": {
        "b7bd47c8427f400f8edaea74f7e677ac": {
          "model_module": "@jupyter-widgets/controls",
          "model_name": "HBoxModel",
          "model_module_version": "1.5.0",
          "state": {
            "_dom_classes": [],
            "_model_module": "@jupyter-widgets/controls",
            "_model_module_version": "1.5.0",
            "_model_name": "HBoxModel",
            "_view_count": null,
            "_view_module": "@jupyter-widgets/controls",
            "_view_module_version": "1.5.0",
            "_view_name": "HBoxView",
            "box_style": "",
            "children": [
              "IPY_MODEL_84e7c836de1c44768691691640c518d0",
              "IPY_MODEL_34faed9939084b099ecb262ac9cf475c",
              "IPY_MODEL_04e2b2c199e642f78f4302dce54f22b1"
            ],
            "layout": "IPY_MODEL_25c977595a4c49e487e31abeee9aee83"
          }
        },
        "84e7c836de1c44768691691640c518d0": {
          "model_module": "@jupyter-widgets/controls",
          "model_name": "HTMLModel",
          "model_module_version": "1.5.0",
          "state": {
            "_dom_classes": [],
            "_model_module": "@jupyter-widgets/controls",
            "_model_module_version": "1.5.0",
            "_model_name": "HTMLModel",
            "_view_count": null,
            "_view_module": "@jupyter-widgets/controls",
            "_view_module_version": "1.5.0",
            "_view_name": "HTMLView",
            "description": "",
            "description_tooltip": null,
            "layout": "IPY_MODEL_9d70ced902c747dcaa36cf9dea94cb22",
            "placeholder": "​",
            "style": "IPY_MODEL_b146e100a66842a58aab959df7257701",
            "value": "Copying files:   9%"
          }
        },
        "34faed9939084b099ecb262ac9cf475c": {
          "model_module": "@jupyter-widgets/controls",
          "model_name": "FloatProgressModel",
          "model_module_version": "1.5.0",
          "state": {
            "_dom_classes": [],
            "_model_module": "@jupyter-widgets/controls",
            "_model_module_version": "1.5.0",
            "_model_name": "FloatProgressModel",
            "_view_count": null,
            "_view_module": "@jupyter-widgets/controls",
            "_view_module_version": "1.5.0",
            "_view_name": "ProgressView",
            "bar_style": "",
            "description": "",
            "description_tooltip": null,
            "layout": "IPY_MODEL_c064523b0c1b44948a45f3645df557ba",
            "max": 5059,
            "min": 0,
            "orientation": "horizontal",
            "style": "IPY_MODEL_692d9a1d512445bdb875eb429271cd66",
            "value": 458
          }
        },
        "04e2b2c199e642f78f4302dce54f22b1": {
          "model_module": "@jupyter-widgets/controls",
          "model_name": "HTMLModel",
          "model_module_version": "1.5.0",
          "state": {
            "_dom_classes": [],
            "_model_module": "@jupyter-widgets/controls",
            "_model_module_version": "1.5.0",
            "_model_name": "HTMLModel",
            "_view_count": null,
            "_view_module": "@jupyter-widgets/controls",
            "_view_module_version": "1.5.0",
            "_view_name": "HTMLView",
            "description": "",
            "description_tooltip": null,
            "layout": "IPY_MODEL_4cdce3e10e8743c3abd39adbe594b67e",
            "placeholder": "​",
            "style": "IPY_MODEL_7f389f3e2eef467289959be5d55be2dd",
            "value": " 458/5059 [18:06&lt;4:26:42,  3.48s/it]"
          }
        },
        "25c977595a4c49e487e31abeee9aee83": {
          "model_module": "@jupyter-widgets/base",
          "model_name": "LayoutModel",
          "model_module_version": "1.2.0",
          "state": {
            "_model_module": "@jupyter-widgets/base",
            "_model_module_version": "1.2.0",
            "_model_name": "LayoutModel",
            "_view_count": null,
            "_view_module": "@jupyter-widgets/base",
            "_view_module_version": "1.2.0",
            "_view_name": "LayoutView",
            "align_content": null,
            "align_items": null,
            "align_self": null,
            "border": null,
            "bottom": null,
            "display": null,
            "flex": null,
            "flex_flow": null,
            "grid_area": null,
            "grid_auto_columns": null,
            "grid_auto_flow": null,
            "grid_auto_rows": null,
            "grid_column": null,
            "grid_gap": null,
            "grid_row": null,
            "grid_template_areas": null,
            "grid_template_columns": null,
            "grid_template_rows": null,
            "height": null,
            "justify_content": null,
            "justify_items": null,
            "left": null,
            "margin": null,
            "max_height": null,
            "max_width": null,
            "min_height": null,
            "min_width": null,
            "object_fit": null,
            "object_position": null,
            "order": null,
            "overflow": null,
            "overflow_x": null,
            "overflow_y": null,
            "padding": null,
            "right": null,
            "top": null,
            "visibility": null,
            "width": null
          }
        },
        "9d70ced902c747dcaa36cf9dea94cb22": {
          "model_module": "@jupyter-widgets/base",
          "model_name": "LayoutModel",
          "model_module_version": "1.2.0",
          "state": {
            "_model_module": "@jupyter-widgets/base",
            "_model_module_version": "1.2.0",
            "_model_name": "LayoutModel",
            "_view_count": null,
            "_view_module": "@jupyter-widgets/base",
            "_view_module_version": "1.2.0",
            "_view_name": "LayoutView",
            "align_content": null,
            "align_items": null,
            "align_self": null,
            "border": null,
            "bottom": null,
            "display": null,
            "flex": null,
            "flex_flow": null,
            "grid_area": null,
            "grid_auto_columns": null,
            "grid_auto_flow": null,
            "grid_auto_rows": null,
            "grid_column": null,
            "grid_gap": null,
            "grid_row": null,
            "grid_template_areas": null,
            "grid_template_columns": null,
            "grid_template_rows": null,
            "height": null,
            "justify_content": null,
            "justify_items": null,
            "left": null,
            "margin": null,
            "max_height": null,
            "max_width": null,
            "min_height": null,
            "min_width": null,
            "object_fit": null,
            "object_position": null,
            "order": null,
            "overflow": null,
            "overflow_x": null,
            "overflow_y": null,
            "padding": null,
            "right": null,
            "top": null,
            "visibility": null,
            "width": null
          }
        },
        "b146e100a66842a58aab959df7257701": {
          "model_module": "@jupyter-widgets/controls",
          "model_name": "DescriptionStyleModel",
          "model_module_version": "1.5.0",
          "state": {
            "_model_module": "@jupyter-widgets/controls",
            "_model_module_version": "1.5.0",
            "_model_name": "DescriptionStyleModel",
            "_view_count": null,
            "_view_module": "@jupyter-widgets/base",
            "_view_module_version": "1.2.0",
            "_view_name": "StyleView",
            "description_width": ""
          }
        },
        "c064523b0c1b44948a45f3645df557ba": {
          "model_module": "@jupyter-widgets/base",
          "model_name": "LayoutModel",
          "model_module_version": "1.2.0",
          "state": {
            "_model_module": "@jupyter-widgets/base",
            "_model_module_version": "1.2.0",
            "_model_name": "LayoutModel",
            "_view_count": null,
            "_view_module": "@jupyter-widgets/base",
            "_view_module_version": "1.2.0",
            "_view_name": "LayoutView",
            "align_content": null,
            "align_items": null,
            "align_self": null,
            "border": null,
            "bottom": null,
            "display": null,
            "flex": null,
            "flex_flow": null,
            "grid_area": null,
            "grid_auto_columns": null,
            "grid_auto_flow": null,
            "grid_auto_rows": null,
            "grid_column": null,
            "grid_gap": null,
            "grid_row": null,
            "grid_template_areas": null,
            "grid_template_columns": null,
            "grid_template_rows": null,
            "height": null,
            "justify_content": null,
            "justify_items": null,
            "left": null,
            "margin": null,
            "max_height": null,
            "max_width": null,
            "min_height": null,
            "min_width": null,
            "object_fit": null,
            "object_position": null,
            "order": null,
            "overflow": null,
            "overflow_x": null,
            "overflow_y": null,
            "padding": null,
            "right": null,
            "top": null,
            "visibility": null,
            "width": null
          }
        },
        "692d9a1d512445bdb875eb429271cd66": {
          "model_module": "@jupyter-widgets/controls",
          "model_name": "ProgressStyleModel",
          "model_module_version": "1.5.0",
          "state": {
            "_model_module": "@jupyter-widgets/controls",
            "_model_module_version": "1.5.0",
            "_model_name": "ProgressStyleModel",
            "_view_count": null,
            "_view_module": "@jupyter-widgets/base",
            "_view_module_version": "1.2.0",
            "_view_name": "StyleView",
            "bar_color": null,
            "description_width": ""
          }
        },
        "4cdce3e10e8743c3abd39adbe594b67e": {
          "model_module": "@jupyter-widgets/base",
          "model_name": "LayoutModel",
          "model_module_version": "1.2.0",
          "state": {
            "_model_module": "@jupyter-widgets/base",
            "_model_module_version": "1.2.0",
            "_model_name": "LayoutModel",
            "_view_count": null,
            "_view_module": "@jupyter-widgets/base",
            "_view_module_version": "1.2.0",
            "_view_name": "LayoutView",
            "align_content": null,
            "align_items": null,
            "align_self": null,
            "border": null,
            "bottom": null,
            "display": null,
            "flex": null,
            "flex_flow": null,
            "grid_area": null,
            "grid_auto_columns": null,
            "grid_auto_flow": null,
            "grid_auto_rows": null,
            "grid_column": null,
            "grid_gap": null,
            "grid_row": null,
            "grid_template_areas": null,
            "grid_template_columns": null,
            "grid_template_rows": null,
            "height": null,
            "justify_content": null,
            "justify_items": null,
            "left": null,
            "margin": null,
            "max_height": null,
            "max_width": null,
            "min_height": null,
            "min_width": null,
            "object_fit": null,
            "object_position": null,
            "order": null,
            "overflow": null,
            "overflow_x": null,
            "overflow_y": null,
            "padding": null,
            "right": null,
            "top": null,
            "visibility": null,
            "width": null
          }
        },
        "7f389f3e2eef467289959be5d55be2dd": {
          "model_module": "@jupyter-widgets/controls",
          "model_name": "DescriptionStyleModel",
          "model_module_version": "1.5.0",
          "state": {
            "_model_module": "@jupyter-widgets/controls",
            "_model_module_version": "1.5.0",
            "_model_name": "DescriptionStyleModel",
            "_view_count": null,
            "_view_module": "@jupyter-widgets/base",
            "_view_module_version": "1.2.0",
            "_view_name": "StyleView",
            "description_width": ""
          }
        }
      }
    }
  },
  "cells": [
    {
      "cell_type": "markdown",
      "metadata": {
        "id": "view-in-github",
        "colab_type": "text"
      },
      "source": [
        "<a href=\"https://colab.research.google.com/github/KarlRadtke/ELOC_database/blob/main/Backup_in_google_drive.ipynb\" target=\"_parent\"><img src=\"https://colab.research.google.com/assets/colab-badge.svg\" alt=\"Open In Colab\"/></a>"
      ]
    },
    {
      "cell_type": "markdown",
      "source": [
        "## Copying S3 Buckets to Google Drive in Colab\n",
        "\n",
        "This notebook provides a workflow to transfer data from AWS S3 buckets\n",
        "to Google Drive while maintaining the directory structure. Ensure you\n",
        "have a YAML file with AWS credentials prepared.\n"
      ],
      "metadata": {
        "id": "18IFN99l_J27"
      }
    },
    {
      "cell_type": "markdown",
      "source": [
        "Import Necessary Libraries"
      ],
      "metadata": {
        "id": "dEtkICGR_Vak"
      }
    },
    {
      "cell_type": "code",
      "source": [
        "!pip install boto3 tqdm"
      ],
      "metadata": {
        "colab": {
          "base_uri": "https://localhost:8080/"
        },
        "id": "Li1JPyTcLz2U",
        "outputId": "13e32350-3162-405c-f4c5-13490a971227"
      },
      "execution_count": 3,
      "outputs": [
        {
          "output_type": "stream",
          "name": "stdout",
          "text": [
            "Requirement already satisfied: boto3 in /usr/local/lib/python3.10/dist-packages (1.28.61)\n",
            "Requirement already satisfied: tqdm in /usr/local/lib/python3.10/dist-packages (4.66.1)\n",
            "Requirement already satisfied: botocore<1.32.0,>=1.31.61 in /usr/local/lib/python3.10/dist-packages (from boto3) (1.31.61)\n",
            "Requirement already satisfied: jmespath<2.0.0,>=0.7.1 in /usr/local/lib/python3.10/dist-packages (from boto3) (1.0.1)\n",
            "Requirement already satisfied: s3transfer<0.8.0,>=0.7.0 in /usr/local/lib/python3.10/dist-packages (from boto3) (0.7.0)\n",
            "Requirement already satisfied: python-dateutil<3.0.0,>=2.1 in /usr/local/lib/python3.10/dist-packages (from botocore<1.32.0,>=1.31.61->boto3) (2.8.2)\n",
            "Requirement already satisfied: urllib3<1.27,>=1.25.4 in /usr/local/lib/python3.10/dist-packages (from botocore<1.32.0,>=1.31.61->boto3) (1.26.17)\n",
            "Requirement already satisfied: six>=1.5 in /usr/local/lib/python3.10/dist-packages (from python-dateutil<3.0.0,>=2.1->botocore<1.32.0,>=1.31.61->boto3) (1.16.0)\n"
          ]
        }
      ]
    },
    {
      "cell_type": "code",
      "source": [
        "from google.colab import drive\n",
        "import boto3\n",
        "import os\n",
        "from tqdm.notebook import tqdm\n",
        "import yaml"
      ],
      "metadata": {
        "id": "5pAFKqDA_gu6"
      },
      "execution_count": 2,
      "outputs": []
    },
    {
      "cell_type": "markdown",
      "source": [
        "### Mount Google Drive"
      ],
      "metadata": {
        "id": "6pIYoRk4_lWL"
      }
    },
    {
      "cell_type": "code",
      "source": [
        "drive.mount('/content/drive')"
      ],
      "metadata": {
        "colab": {
          "base_uri": "https://localhost:8080/"
        },
        "id": "CEe3998N_stO",
        "outputId": "8179c2df-c3f9-4e9b-9583-7b81b200d0c5"
      },
      "execution_count": 4,
      "outputs": [
        {
          "output_type": "stream",
          "name": "stdout",
          "text": [
            "Drive already mounted at /content/drive; to attempt to forcibly remount, call drive.mount(\"/content/drive\", force_remount=True).\n"
          ]
        }
      ]
    },
    {
      "cell_type": "markdown",
      "source": [
        "### Load AWS Credentials\n",
        "\n",
        "We'll load our AWS credentials from a YAML file."
      ],
      "metadata": {
        "id": "k0G9P1aMAFXj"
      }
    },
    {
      "cell_type": "code",
      "source": [
        "from google.colab import files\n",
        "uploaded = files.upload()\n",
        "\n",
        "# Load AWS credentials from YAML\n",
        "with open(\"connection_config.yaml\", 'r') as file:\n",
        "    creds = yaml.safe_load(file)\n",
        "\n",
        "AWS_ACCESS_KEY_ID = creds['access_key']\n",
        "AWS_SECRET_ACCESS_KEY = creds['secret_access_key']\n",
        "\n",
        "s3 = boto3.resource(\n",
        "    's3',\n",
        "    aws_access_key_id=AWS_ACCESS_KEY_ID,\n",
        "    aws_secret_access_key=AWS_SECRET_ACCESS_KEY\n",
        ")\n"
      ],
      "metadata": {
        "colab": {
          "base_uri": "https://localhost:8080/",
          "height": 73
        },
        "id": "mBPCKiL2AIiM",
        "outputId": "6968c019-394f-4e51-e1bb-5ba1fce3026d"
      },
      "execution_count": 7,
      "outputs": [
        {
          "output_type": "display_data",
          "data": {
            "text/plain": [
              "<IPython.core.display.HTML object>"
            ],
            "text/html": [
              "\n",
              "     <input type=\"file\" id=\"files-116959d2-181e-4873-9f43-32ced2f42513\" name=\"files[]\" multiple disabled\n",
              "        style=\"border:none\" />\n",
              "     <output id=\"result-116959d2-181e-4873-9f43-32ced2f42513\">\n",
              "      Upload widget is only available when the cell has been executed in the\n",
              "      current browser session. Please rerun this cell to enable.\n",
              "      </output>\n",
              "      <script>// Copyright 2017 Google LLC\n",
              "//\n",
              "// Licensed under the Apache License, Version 2.0 (the \"License\");\n",
              "// you may not use this file except in compliance with the License.\n",
              "// You may obtain a copy of the License at\n",
              "//\n",
              "//      http://www.apache.org/licenses/LICENSE-2.0\n",
              "//\n",
              "// Unless required by applicable law or agreed to in writing, software\n",
              "// distributed under the License is distributed on an \"AS IS\" BASIS,\n",
              "// WITHOUT WARRANTIES OR CONDITIONS OF ANY KIND, either express or implied.\n",
              "// See the License for the specific language governing permissions and\n",
              "// limitations under the License.\n",
              "\n",
              "/**\n",
              " * @fileoverview Helpers for google.colab Python module.\n",
              " */\n",
              "(function(scope) {\n",
              "function span(text, styleAttributes = {}) {\n",
              "  const element = document.createElement('span');\n",
              "  element.textContent = text;\n",
              "  for (const key of Object.keys(styleAttributes)) {\n",
              "    element.style[key] = styleAttributes[key];\n",
              "  }\n",
              "  return element;\n",
              "}\n",
              "\n",
              "// Max number of bytes which will be uploaded at a time.\n",
              "const MAX_PAYLOAD_SIZE = 100 * 1024;\n",
              "\n",
              "function _uploadFiles(inputId, outputId) {\n",
              "  const steps = uploadFilesStep(inputId, outputId);\n",
              "  const outputElement = document.getElementById(outputId);\n",
              "  // Cache steps on the outputElement to make it available for the next call\n",
              "  // to uploadFilesContinue from Python.\n",
              "  outputElement.steps = steps;\n",
              "\n",
              "  return _uploadFilesContinue(outputId);\n",
              "}\n",
              "\n",
              "// This is roughly an async generator (not supported in the browser yet),\n",
              "// where there are multiple asynchronous steps and the Python side is going\n",
              "// to poll for completion of each step.\n",
              "// This uses a Promise to block the python side on completion of each step,\n",
              "// then passes the result of the previous step as the input to the next step.\n",
              "function _uploadFilesContinue(outputId) {\n",
              "  const outputElement = document.getElementById(outputId);\n",
              "  const steps = outputElement.steps;\n",
              "\n",
              "  const next = steps.next(outputElement.lastPromiseValue);\n",
              "  return Promise.resolve(next.value.promise).then((value) => {\n",
              "    // Cache the last promise value to make it available to the next\n",
              "    // step of the generator.\n",
              "    outputElement.lastPromiseValue = value;\n",
              "    return next.value.response;\n",
              "  });\n",
              "}\n",
              "\n",
              "/**\n",
              " * Generator function which is called between each async step of the upload\n",
              " * process.\n",
              " * @param {string} inputId Element ID of the input file picker element.\n",
              " * @param {string} outputId Element ID of the output display.\n",
              " * @return {!Iterable<!Object>} Iterable of next steps.\n",
              " */\n",
              "function* uploadFilesStep(inputId, outputId) {\n",
              "  const inputElement = document.getElementById(inputId);\n",
              "  inputElement.disabled = false;\n",
              "\n",
              "  const outputElement = document.getElementById(outputId);\n",
              "  outputElement.innerHTML = '';\n",
              "\n",
              "  const pickedPromise = new Promise((resolve) => {\n",
              "    inputElement.addEventListener('change', (e) => {\n",
              "      resolve(e.target.files);\n",
              "    });\n",
              "  });\n",
              "\n",
              "  const cancel = document.createElement('button');\n",
              "  inputElement.parentElement.appendChild(cancel);\n",
              "  cancel.textContent = 'Cancel upload';\n",
              "  const cancelPromise = new Promise((resolve) => {\n",
              "    cancel.onclick = () => {\n",
              "      resolve(null);\n",
              "    };\n",
              "  });\n",
              "\n",
              "  // Wait for the user to pick the files.\n",
              "  const files = yield {\n",
              "    promise: Promise.race([pickedPromise, cancelPromise]),\n",
              "    response: {\n",
              "      action: 'starting',\n",
              "    }\n",
              "  };\n",
              "\n",
              "  cancel.remove();\n",
              "\n",
              "  // Disable the input element since further picks are not allowed.\n",
              "  inputElement.disabled = true;\n",
              "\n",
              "  if (!files) {\n",
              "    return {\n",
              "      response: {\n",
              "        action: 'complete',\n",
              "      }\n",
              "    };\n",
              "  }\n",
              "\n",
              "  for (const file of files) {\n",
              "    const li = document.createElement('li');\n",
              "    li.append(span(file.name, {fontWeight: 'bold'}));\n",
              "    li.append(span(\n",
              "        `(${file.type || 'n/a'}) - ${file.size} bytes, ` +\n",
              "        `last modified: ${\n",
              "            file.lastModifiedDate ? file.lastModifiedDate.toLocaleDateString() :\n",
              "                                    'n/a'} - `));\n",
              "    const percent = span('0% done');\n",
              "    li.appendChild(percent);\n",
              "\n",
              "    outputElement.appendChild(li);\n",
              "\n",
              "    const fileDataPromise = new Promise((resolve) => {\n",
              "      const reader = new FileReader();\n",
              "      reader.onload = (e) => {\n",
              "        resolve(e.target.result);\n",
              "      };\n",
              "      reader.readAsArrayBuffer(file);\n",
              "    });\n",
              "    // Wait for the data to be ready.\n",
              "    let fileData = yield {\n",
              "      promise: fileDataPromise,\n",
              "      response: {\n",
              "        action: 'continue',\n",
              "      }\n",
              "    };\n",
              "\n",
              "    // Use a chunked sending to avoid message size limits. See b/62115660.\n",
              "    let position = 0;\n",
              "    do {\n",
              "      const length = Math.min(fileData.byteLength - position, MAX_PAYLOAD_SIZE);\n",
              "      const chunk = new Uint8Array(fileData, position, length);\n",
              "      position += length;\n",
              "\n",
              "      const base64 = btoa(String.fromCharCode.apply(null, chunk));\n",
              "      yield {\n",
              "        response: {\n",
              "          action: 'append',\n",
              "          file: file.name,\n",
              "          data: base64,\n",
              "        },\n",
              "      };\n",
              "\n",
              "      let percentDone = fileData.byteLength === 0 ?\n",
              "          100 :\n",
              "          Math.round((position / fileData.byteLength) * 100);\n",
              "      percent.textContent = `${percentDone}% done`;\n",
              "\n",
              "    } while (position < fileData.byteLength);\n",
              "  }\n",
              "\n",
              "  // All done.\n",
              "  yield {\n",
              "    response: {\n",
              "      action: 'complete',\n",
              "    }\n",
              "  };\n",
              "}\n",
              "\n",
              "scope.google = scope.google || {};\n",
              "scope.google.colab = scope.google.colab || {};\n",
              "scope.google.colab._files = {\n",
              "  _uploadFiles,\n",
              "  _uploadFilesContinue,\n",
              "};\n",
              "})(self);\n",
              "</script> "
            ]
          },
          "metadata": {}
        },
        {
          "output_type": "stream",
          "name": "stdout",
          "text": [
            "Saving connection_config.yaml to connection_config (1).yaml\n"
          ]
        }
      ]
    },
    {
      "cell_type": "markdown",
      "source": [
        "### Define the Copy Function\n",
        "\n",
        "This function will copy content from a specified S3 bucket to a\n",
        "designated folder on Google Drive, maintaining the directory structure."
      ],
      "metadata": {
        "id": "vcsoQ4-TBH9q"
      }
    },
    {
      "cell_type": "code",
      "source": [
        "def copy_bucket_to_drive(bucket, destination_folder):\n",
        "    \"\"\"\n",
        "    Copies the contents of an S3 bucket to Google Drive.\n",
        "\n",
        "    Parameters:\n",
        "    - bucket: boto3 Bucket instance.\n",
        "    - destination_folder: str. The root directory on Google Drive where the\n",
        "      bucket contents will be saved.\n",
        "    \"\"\"\n",
        "\n",
        "    # Define the base directory in Google Drive\n",
        "    base_dir = os.path.join(destination_folder, bucket.name)\n",
        "\n",
        "    # Get total number of objects for progress bar\n",
        "    total_objects = sum(1 for _ in bucket.objects.all())\n",
        "\n",
        "    print(f\"Transfer bucket: {bucket.name}.\")\n",
        "    # Iterate over each object in the S3 bucket with a progress bar\n",
        "    for obj in tqdm(bucket.objects.all(), total=total_objects, desc=\"Copying files\"):\n",
        "        try:\n",
        "            # Define where to save the object on Google Drive\n",
        "            path_on_drive = os.path.join(base_dir, obj.key)\n",
        "\n",
        "            # If the folder structure leading up to the object doesn't exist, create it\n",
        "            if not os.path.exists(os.path.dirname(path_on_drive)):\n",
        "                os.makedirs(os.path.dirname(path_on_drive))\n",
        "\n",
        "            # Download the object from S3 and save it to Google Drive\n",
        "            bucket.download_file(obj.key, path_on_drive)\n",
        "\n",
        "        except Exception as e:\n",
        "            print(f\"Error copying key {obj.key}: {e}\")"
      ],
      "metadata": {
        "id": "5Z9W30xULUJe"
      },
      "execution_count": 8,
      "outputs": []
    },
    {
      "cell_type": "markdown",
      "source": [
        "### Execute the Copy\n",
        "\n",
        "Now, we'll specify the S3 buckets we want to copy and then initiate the\n",
        "copy process. Adjust the `bucket_names` list to contain the names of\n",
        "the S3 buckets you want to transfer.\n"
      ],
      "metadata": {
        "id": "rXD4qO0CBw0O"
      }
    },
    {
      "cell_type": "code",
      "source": [
        "#BUCKETS_TO_COPY = ['tangkahan', 'bukit-tiga-puluh', 'sabah', 'way-kambas']\n",
        "BUCKETS_TO_COPY = ['btp-abt-202307', 'way-kambas']\n",
        "DESTINATION_FOLDER = \"/content/drive/Shareddrives/ELOC_database\"\n",
        "\n",
        "# Iterate over each bucket and copy to Google Drive\n",
        "for bucket_name in BUCKETS_TO_COPY:\n",
        "    try:\n",
        "        bucket = s3.Bucket(bucket_name)\n",
        "        copy_bucket_to_drive(bucket, DESTINATION_FOLDER)\n",
        "    except Exception as e:\n",
        "        print(f\"Error copying bucket {bucket_name}: {e}\")\n"
      ],
      "metadata": {
        "colab": {
          "base_uri": "https://localhost:8080/",
          "height": 347,
          "referenced_widgets": [
            "b7bd47c8427f400f8edaea74f7e677ac",
            "84e7c836de1c44768691691640c518d0",
            "34faed9939084b099ecb262ac9cf475c",
            "04e2b2c199e642f78f4302dce54f22b1",
            "25c977595a4c49e487e31abeee9aee83",
            "9d70ced902c747dcaa36cf9dea94cb22",
            "b146e100a66842a58aab959df7257701",
            "c064523b0c1b44948a45f3645df557ba",
            "692d9a1d512445bdb875eb429271cd66",
            "4cdce3e10e8743c3abd39adbe594b67e",
            "7f389f3e2eef467289959be5d55be2dd"
          ]
        },
        "id": "77LS4N1tB0jr",
        "outputId": "671289fb-e59e-42d7-f207-e9e2b392a9be"
      },
      "execution_count": null,
      "outputs": [
        {
          "output_type": "stream",
          "name": "stdout",
          "text": [
            "Transfer bucket: btp-abt-202307.\n"
          ]
        },
        {
          "output_type": "display_data",
          "data": {
            "text/plain": [
              "Copying files:   0%|          | 0/5059 [00:00<?, ?it/s]"
            ],
            "application/vnd.jupyter.widget-view+json": {
              "version_major": 2,
              "version_minor": 0,
              "model_id": "b7bd47c8427f400f8edaea74f7e677ac"
            }
          },
          "metadata": {}
        },
        {
          "output_type": "stream",
          "name": "stdout",
          "text": [
            "Error copying key metadata/: [Errno 20] Not a directory: '/content/drive/Shareddrives/ELOC_database/btp-abt-202307/metadata/.8DbDB8dF' -> '/content/drive/Shareddrives/ELOC_database/btp-abt-202307/metadata/'\n",
            "Error copying key metadata/photos/: [Errno 20] Not a directory: '/content/drive/Shareddrives/ELOC_database/btp-abt-202307/metadata/photos/.DDDf6D48' -> '/content/drive/Shareddrives/ELOC_database/btp-abt-202307/metadata/photos/'\n",
            "Error copying key soundfiles/: [Errno 20] Not a directory: '/content/drive/Shareddrives/ELOC_database/btp-abt-202307/soundfiles/.18d6ad96' -> '/content/drive/Shareddrives/ELOC_database/btp-abt-202307/soundfiles/'\n",
            "Error copying key soundfiles/1_1673352107743/: [Errno 20] Not a directory: '/content/drive/Shareddrives/ELOC_database/btp-abt-202307/soundfiles/1_1673352107743/.E5Ecd70A' -> '/content/drive/Shareddrives/ELOC_database/btp-abt-202307/soundfiles/1_1673352107743/'\n",
            "Error copying key soundfiles/1_1673370357472/: [Errno 20] Not a directory: '/content/drive/Shareddrives/ELOC_database/btp-abt-202307/soundfiles/1_1673370357472/.95938CB3' -> '/content/drive/Shareddrives/ELOC_database/btp-abt-202307/soundfiles/1_1673370357472/'\n",
            "Error copying key soundfiles/1_1675684455393/: [Errno 20] Not a directory: '/content/drive/Shareddrives/ELOC_database/btp-abt-202307/soundfiles/1_1675684455393/.11Ead4A8' -> '/content/drive/Shareddrives/ELOC_database/btp-abt-202307/soundfiles/1_1675684455393/'\n",
            "Error copying key soundfiles/1_1679917833742/: [Errno 20] Not a directory: '/content/drive/Shareddrives/ELOC_database/btp-abt-202307/soundfiles/1_1679917833742/.49b174f5' -> '/content/drive/Shareddrives/ELOC_database/btp-abt-202307/soundfiles/1_1679917833742/'\n",
            "Error copying key soundfiles/ELOC10_1666085428632/: [Errno 20] Not a directory: '/content/drive/Shareddrives/ELOC_database/btp-abt-202307/soundfiles/ELOC10_1666085428632/.b6ecBf88' -> '/content/drive/Shareddrives/ELOC_database/btp-abt-202307/soundfiles/ELOC10_1666085428632/'\n",
            "Error copying key soundfiles/ELOC10_1672927089770/: [Errno 20] Not a directory: '/content/drive/Shareddrives/ELOC_database/btp-abt-202307/soundfiles/ELOC10_1672927089770/.cED5e964' -> '/content/drive/Shareddrives/ELOC_database/btp-abt-202307/soundfiles/ELOC10_1672927089770/'\n",
            "Error copying key soundfiles/ELOC11_13111/: [Errno 20] Not a directory: '/content/drive/Shareddrives/ELOC_database/btp-abt-202307/soundfiles/ELOC11_13111/.7fdd64ab' -> '/content/drive/Shareddrives/ELOC_database/btp-abt-202307/soundfiles/ELOC11_13111/'\n",
            "Error copying key soundfiles/ELOC11_1684257821810/: [Errno 20] Not a directory: '/content/drive/Shareddrives/ELOC_database/btp-abt-202307/soundfiles/ELOC11_1684257821810/.Cf6F1B40' -> '/content/drive/Shareddrives/ELOC_database/btp-abt-202307/soundfiles/ELOC11_1684257821810/'\n",
            "Error copying key soundfiles/ELOC11_1684258280652/: [Errno 20] Not a directory: '/content/drive/Shareddrives/ELOC_database/btp-abt-202307/soundfiles/ELOC11_1684258280652/.eb21799B' -> '/content/drive/Shareddrives/ELOC_database/btp-abt-202307/soundfiles/ELOC11_1684258280652/'\n",
            "Error copying key soundfiles/ELOC11_1687944772309/: [Errno 20] Not a directory: '/content/drive/Shareddrives/ELOC_database/btp-abt-202307/soundfiles/ELOC11_1687944772309/.dBAb094A' -> '/content/drive/Shareddrives/ELOC_database/btp-abt-202307/soundfiles/ELOC11_1687944772309/'\n",
            "Error copying key soundfiles/ELOC11_1688389998675/: [Errno 20] Not a directory: '/content/drive/Shareddrives/ELOC_database/btp-abt-202307/soundfiles/ELOC11_1688389998675/.fF4B25A6' -> '/content/drive/Shareddrives/ELOC_database/btp-abt-202307/soundfiles/ELOC11_1688389998675/'\n",
            "Error copying key soundfiles/ELOC11_1690460079638/: [Errno 20] Not a directory: '/content/drive/Shareddrives/ELOC_database/btp-abt-202307/soundfiles/ELOC11_1690460079638/.deE09B76' -> '/content/drive/Shareddrives/ELOC_database/btp-abt-202307/soundfiles/ELOC11_1690460079638/'\n"
          ]
        }
      ]
    }
  ]
}

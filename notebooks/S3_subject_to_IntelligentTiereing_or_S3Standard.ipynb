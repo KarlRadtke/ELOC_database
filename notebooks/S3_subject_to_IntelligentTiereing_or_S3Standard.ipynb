{
 "cells": [
  {
   "cell_type": "markdown",
   "id": "fb10860e-25b5-42b1-8bf9-0ff3f0c63315",
   "metadata": {
    "tags": []
   },
   "source": [
    "# S3 Soundfile Storage Class Management Based on Label Association\n",
    "\n",
    "This notebook is designed to assign AWS S3 storage classes to soundfiles based on the presence of labels. \n",
    "\n",
    "\n",
    "Soundfiles that are associated with labels will retain the S3 Standard storage class, while those without labels will be moved to S3 Intelligent Tiering. \n",
    "\n",
    "The determination of whether soundfiles possess labels is based on a CSV file that enumerates all labeled soundfiles. This method ensures a cost-effective storage solution by optimizing the storage class according to the labeling status of each soundfile."
   ]
  },
  {
   "cell_type": "markdown",
   "id": "71740e1a-d06b-4d84-b2a5-b83b4678033a",
   "metadata": {
    "tags": []
   },
   "source": [
    "## Import Necessary Libraries\n",
    "Here we import all required libraries like `boto3` for AWS operations, `pandas` for handling CSV files, `yaml` for reading configurations, and `tqdm` for progress visualization.\n"
   ]
  },
  {
   "cell_type": "code",
   "execution_count": 2,
   "id": "41cc1322-19f7-4d8a-b910-ec00a3753645",
   "metadata": {
    "tags": []
   },
   "outputs": [],
   "source": [
    "# Import necessary libraries\n",
    "import boto3\n",
    "import pandas as pd\n",
    "import yaml\n",
    "from tqdm.notebook import tqdm\n",
    "from concurrent.futures import ThreadPoolExecutor"
   ]
  },
  {
   "cell_type": "markdown",
   "id": "d78afb60-79db-423a-beb7-cb478a070029",
   "metadata": {},
   "source": [
    "## Load AWS Credentials\n",
    "AWS credentials are loaded from a YAML file. These credentials are used to authenticate and perform operations on S3 buckets.\n"
   ]
  },
  {
   "cell_type": "code",
   "execution_count": 3,
   "id": "6366a67b-5195-4426-9ab7-8f85fcceb45d",
   "metadata": {
    "tags": []
   },
   "outputs": [],
   "source": [
    "# Load the S3 credentials from a YAML file\n",
    "with open('../config/connection_config.yaml', 'r') as f:\n",
    "    credentials = yaml.safe_load(f)\n",
    "    \n",
    "# Extract the access key and secret access key\n",
    "access_key = credentials['access_key']\n",
    "secret_access_key = credentials['secret_access_key']\n",
    "\n",
    "# Initialize S3 client\n",
    "s3_client = boto3.client('s3', aws_access_key_id=access_key, aws_secret_access_key=secret_access_key)"
   ]
  },
  {
   "cell_type": "markdown",
   "id": "77557f12-d6f9-4c0a-8a69-8a3442af7598",
   "metadata": {},
   "source": [
    "## Define Bucket Names and Read CSV File\n",
    "Specify the bucket names to be processed\n"
   ]
  },
  {
   "cell_type": "code",
   "execution_count": 4,
   "id": "00cc0983-e77b-4542-889a-6cba14c5049c",
   "metadata": {
    "tags": []
   },
   "outputs": [],
   "source": [
    "\n",
    "# List of bucket names\n",
    "bucket_names = ['sabah', 'way-kambas', 'bukit-tiga-puluh']"
   ]
  },
  {
   "cell_type": "markdown",
   "id": "884e12e5-c292-4000-a051-05dce9f8db6e",
   "metadata": {},
   "source": [
    "## Function to Change Storage Class\n",
    "This function is used to change the storage class of a file in an S3 bucket. Files not listed in the exclusion list will be moved to Intelligent Tiering.\n"
   ]
  },
  {
   "cell_type": "code",
   "execution_count": 5,
   "id": "caf52e00-5b4f-4846-a95d-913cae299c9c",
   "metadata": {
    "tags": []
   },
   "outputs": [],
   "source": [
    "def change_storage_class(bucket, key):\n",
    "    s3_client.copy_object(\n",
    "        Bucket=bucket,\n",
    "        CopySource={'Bucket': bucket, 'Key': key},\n",
    "        Key=key,\n",
    "        StorageClass='INTELLIGENT_TIERING'\n",
    "    )"
   ]
  },
  {
   "cell_type": "markdown",
   "id": "6edca741-4ad5-4e4a-861b-d9a314cbddee",
   "metadata": {
    "tags": []
   },
   "source": [
    "## Define Bucket Processing Function\n",
    "This function processes a single bucket. For each file in the bucket, it checks if the file is in the exclusion list. If not, the file's storage class is changed to Intelligent Tiering.\n"
   ]
  },
  {
   "cell_type": "code",
   "execution_count": 6,
   "id": "2bb82f6a-e387-4fa2-9398-ef0e055ec000",
   "metadata": {
    "tags": []
   },
   "outputs": [],
   "source": [
    "def update_storage_class_for_bucket(bucket_name, test_limit=None, base_update_interval=100):\n",
    "    \"\"\"\n",
    "    Processes sound files in a specified S3 bucket in parallel. Reads a CSV file \n",
    "    from the same bucket to get the exclusion list. Only files within the \n",
    "    'soundfiles' directory are processed. Files not in the excluded list are \n",
    "    moved to Intelligent Tiering. If a test_limit is provided, only that many \n",
    "    files are processed (useful for testing).\n",
    "\n",
    "    Args:\n",
    "        bucket_name (str): Name of the S3 bucket to be processed.\n",
    "        test_limit (int, optional): Number of files to process for testing. \n",
    "                                    If None, processes all files.\n",
    "        base_update_interval (int): Base interval for progress bar updates.\n",
    "\n",
    "    Returns:\n",
    "        None: The function does not return anything but prints out the status.\n",
    "    \"\"\"\n",
    "    \n",
    "    # Construct the CSV file path and read the exclusion list\n",
    "    csv_file_path = f\"s3://{bucket_name}/labels/selection_tables_to_soundfiles.csv\"\n",
    "    df = pd.read_csv(csv_file_path)\n",
    "    excluded_files = set(df['soundfile_directory'].tolist())\n",
    "\n",
    "    # Gather list of files to process based on exclusion list\n",
    "    paginator = s3_client.get_paginator('list_objects_v2')\n",
    "    page_iterator = paginator.paginate(Bucket=bucket_name, Prefix='soundfiles/')\n",
    "\n",
    "    files_to_process = [obj['Key'] for page in page_iterator \n",
    "                        for obj in page.get('Contents', []) \n",
    "                        if obj['Key'] not in excluded_files]\n",
    "    \n",
    "    # Adjust the list and update interval if test_limit is set\n",
    "    if test_limit:\n",
    "        files_to_process = files_to_process[:test_limit]\n",
    "        # Adjust update interval for smaller batches\n",
    "        update_interval = max(1, min(base_update_interval, test_limit // 10))\n",
    "    else:\n",
    "        update_interval = base_update_interval\n",
    "        \n",
    "    # Initialize the tqdm progress bar\n",
    "    pbar = tqdm(total=len(files_to_process), desc=f\"Processing Bucket: {bucket_name}\")\n",
    "\n",
    "    # Define the file processing function\n",
    "    def process_file(key):\n",
    "        change_storage_class(bucket_name, key)\n",
    "        return key\n",
    "\n",
    "    # Process the files in parallel\n",
    "    with ThreadPoolExecutor() as executor:\n",
    "        for i, filename in enumerate(executor.map(process_file, files_to_process), 1):\n",
    "            # Update progress bar and print the last processed file name\n",
    "            if i % update_interval == 0 or i == len(files_to_process):\n",
    "                pbar.update(update_interval)\n",
    "                # Clear the line before printing the new message\n",
    "                print(f\"\\rLast Processed: {filename}{' ' * (100 - len(filename))}\", end='')\n",
    "\n",
    "    # Close the progress bar and print the final status\n",
    "    pbar.close()\n",
    "    print(f\"\\nStorage class updated for soundfiles in {bucket_name}. \"\n",
    "          f\"Processed {len(files_to_process)} files.\")"
   ]
  },
  {
   "cell_type": "markdown",
   "id": "6560a9e4-c190-4a6b-a554-9237b91576ec",
   "metadata": {
    "tags": []
   },
   "source": [
    "## Execute Bucket Processing\n",
    "Loop through each bucket and apply the processing function. This step will initiate the file transfer to Intelligent Tiering or retain them in S3 Standard as per the exclusion list.\n"
   ]
  },
  {
   "cell_type": "markdown",
   "id": "47debb65-0a0c-479d-887b-afb49641f35c",
   "metadata": {
    "tags": []
   },
   "source": [
    "### Test the Function with a Limited Number of Files\n",
    "Before processing all buckets, let's test the function on a single bucket with a limited number of files. This ensures the functionality works as expected without impacting a large number of files.\n"
   ]
  },
  {
   "cell_type": "code",
   "execution_count": 7,
   "id": "f3512df2-79b0-43ab-a7cb-fac1c9342c48",
   "metadata": {
    "collapsed": true,
    "jupyter": {
     "outputs_hidden": true
    },
    "tags": []
   },
   "outputs": [
    {
     "data": {
      "application/vnd.jupyter.widget-view+json": {
       "model_id": "13339cc514134354b68486f3d8c220b7",
       "version_major": 2,
       "version_minor": 0
      },
      "text/plain": [
       "Processing Bucket: tangkahan:   0%|          | 0/20 [00:00<?, ?it/s]"
      ]
     },
     "metadata": {},
     "output_type": "display_data"
    },
    {
     "name": "stdout",
     "output_type": "stream",
     "text": [
      "Last Processed: soundfiles/1631374980_Swift1/Swift1_2021-09-13/Swift1_20210913_110004.wav                           \n",
      "Storage class updated for soundfiles in tangkahan. Processed 20 files.\n"
     ]
    }
   ],
   "source": [
    "# Test with a limited number of files\n",
    "test_bucket_name = 'tangkahan' \n",
    "update_storage_class_for_bucket(test_bucket_name, test_limit=20)"
   ]
  },
  {
   "cell_type": "code",
   "execution_count": 8,
   "id": "0f1a38db-80f9-46e7-badf-effff420cba9",
   "metadata": {
    "tags": []
   },
   "outputs": [
    {
     "data": {
      "application/vnd.jupyter.widget-view+json": {
       "model_id": "15802d398803462a802f28ae02990e55",
       "version_major": 2,
       "version_minor": 0
      },
      "text/plain": [
       "Processing Bucket: sabah:   0%|          | 0/15561 [00:00<?, ?it/s]"
      ]
     },
     "metadata": {},
     "output_type": "display_data"
    },
    {
     "name": "stdout",
     "output_type": "stream",
     "text": [
      "Last Processed: soundfiles/eloc22_1677318417833/eloc22_1677318417833_2023-02-28_23-46-58.wav                        \n",
      "Storage class updated for soundfiles in sabah. Processed 15561 files.\n"
     ]
    },
    {
     "data": {
      "application/vnd.jupyter.widget-view+json": {
       "model_id": "159b1e8e1e8648e4becce74b8f7204db",
       "version_major": 2,
       "version_minor": 0
      },
      "text/plain": [
       "Processing Bucket: way-kambas:   0%|          | 0/1728 [00:00<?, ?it/s]"
      ]
     },
     "metadata": {},
     "output_type": "display_data"
    },
    {
     "name": "stdout",
     "output_type": "stream",
     "text": [
      "Last Processed: soundfiles/Swift4/SWIFT4_20211213_084027/SWIFT4_2021-12-14/SWIFT4_20211214_180006.wav               \n",
      "Storage class updated for soundfiles in way-kambas. Processed 1728 files.\n"
     ]
    },
    {
     "data": {
      "application/vnd.jupyter.widget-view+json": {
       "model_id": "1eb6f1f9d6ba42dcb53159b44467f68d",
       "version_major": 2,
       "version_minor": 0
      },
      "text/plain": [
       "Processing Bucket: bukit-tiga-puluh:   0%|          | 0/27741 [00:00<?, ?it/s]"
      ]
     },
     "metadata": {},
     "output_type": "display_data"
    },
    {
     "name": "stdout",
     "output_type": "stream",
     "text": [
      "Last Processed: soundfiles/jambi_data/ELOC19_1660118917118/config_ELOC19_1660118917118.txt                          12_12-06-45.wav\n",
      "Storage class updated for soundfiles in bukit-tiga-puluh. Processed 27741 files.\n",
      "Storage class updated for all buckets.\n"
     ]
    }
   ],
   "source": [
    "# Process each bucket\n",
    "for bucket in bucket_names:\n",
    "    update_storage_class_for_bucket(bucket)\n",
    "\n",
    "print(\"Storage class updated for all buckets.\")"
   ]
  }
 ],
 "metadata": {
  "availableInstances": [
   {
    "_defaultOrder": 0,
    "_isFastLaunch": true,
    "category": "General purpose",
    "gpuNum": 0,
    "hideHardwareSpecs": false,
    "memoryGiB": 4,
    "name": "ml.t3.medium",
    "vcpuNum": 2
   },
   {
    "_defaultOrder": 1,
    "_isFastLaunch": false,
    "category": "General purpose",
    "gpuNum": 0,
    "hideHardwareSpecs": false,
    "memoryGiB": 8,
    "name": "ml.t3.large",
    "vcpuNum": 2
   },
   {
    "_defaultOrder": 2,
    "_isFastLaunch": false,
    "category": "General purpose",
    "gpuNum": 0,
    "hideHardwareSpecs": false,
    "memoryGiB": 16,
    "name": "ml.t3.xlarge",
    "vcpuNum": 4
   },
   {
    "_defaultOrder": 3,
    "_isFastLaunch": false,
    "category": "General purpose",
    "gpuNum": 0,
    "hideHardwareSpecs": false,
    "memoryGiB": 32,
    "name": "ml.t3.2xlarge",
    "vcpuNum": 8
   },
   {
    "_defaultOrder": 4,
    "_isFastLaunch": true,
    "category": "General purpose",
    "gpuNum": 0,
    "hideHardwareSpecs": false,
    "memoryGiB": 8,
    "name": "ml.m5.large",
    "vcpuNum": 2
   },
   {
    "_defaultOrder": 5,
    "_isFastLaunch": false,
    "category": "General purpose",
    "gpuNum": 0,
    "hideHardwareSpecs": false,
    "memoryGiB": 16,
    "name": "ml.m5.xlarge",
    "vcpuNum": 4
   },
   {
    "_defaultOrder": 6,
    "_isFastLaunch": false,
    "category": "General purpose",
    "gpuNum": 0,
    "hideHardwareSpecs": false,
    "memoryGiB": 32,
    "name": "ml.m5.2xlarge",
    "vcpuNum": 8
   },
   {
    "_defaultOrder": 7,
    "_isFastLaunch": false,
    "category": "General purpose",
    "gpuNum": 0,
    "hideHardwareSpecs": false,
    "memoryGiB": 64,
    "name": "ml.m5.4xlarge",
    "vcpuNum": 16
   },
   {
    "_defaultOrder": 8,
    "_isFastLaunch": false,
    "category": "General purpose",
    "gpuNum": 0,
    "hideHardwareSpecs": false,
    "memoryGiB": 128,
    "name": "ml.m5.8xlarge",
    "vcpuNum": 32
   },
   {
    "_defaultOrder": 9,
    "_isFastLaunch": false,
    "category": "General purpose",
    "gpuNum": 0,
    "hideHardwareSpecs": false,
    "memoryGiB": 192,
    "name": "ml.m5.12xlarge",
    "vcpuNum": 48
   },
   {
    "_defaultOrder": 10,
    "_isFastLaunch": false,
    "category": "General purpose",
    "gpuNum": 0,
    "hideHardwareSpecs": false,
    "memoryGiB": 256,
    "name": "ml.m5.16xlarge",
    "vcpuNum": 64
   },
   {
    "_defaultOrder": 11,
    "_isFastLaunch": false,
    "category": "General purpose",
    "gpuNum": 0,
    "hideHardwareSpecs": false,
    "memoryGiB": 384,
    "name": "ml.m5.24xlarge",
    "vcpuNum": 96
   },
   {
    "_defaultOrder": 12,
    "_isFastLaunch": false,
    "category": "General purpose",
    "gpuNum": 0,
    "hideHardwareSpecs": false,
    "memoryGiB": 8,
    "name": "ml.m5d.large",
    "vcpuNum": 2
   },
   {
    "_defaultOrder": 13,
    "_isFastLaunch": false,
    "category": "General purpose",
    "gpuNum": 0,
    "hideHardwareSpecs": false,
    "memoryGiB": 16,
    "name": "ml.m5d.xlarge",
    "vcpuNum": 4
   },
   {
    "_defaultOrder": 14,
    "_isFastLaunch": false,
    "category": "General purpose",
    "gpuNum": 0,
    "hideHardwareSpecs": false,
    "memoryGiB": 32,
    "name": "ml.m5d.2xlarge",
    "vcpuNum": 8
   },
   {
    "_defaultOrder": 15,
    "_isFastLaunch": false,
    "category": "General purpose",
    "gpuNum": 0,
    "hideHardwareSpecs": false,
    "memoryGiB": 64,
    "name": "ml.m5d.4xlarge",
    "vcpuNum": 16
   },
   {
    "_defaultOrder": 16,
    "_isFastLaunch": false,
    "category": "General purpose",
    "gpuNum": 0,
    "hideHardwareSpecs": false,
    "memoryGiB": 128,
    "name": "ml.m5d.8xlarge",
    "vcpuNum": 32
   },
   {
    "_defaultOrder": 17,
    "_isFastLaunch": false,
    "category": "General purpose",
    "gpuNum": 0,
    "hideHardwareSpecs": false,
    "memoryGiB": 192,
    "name": "ml.m5d.12xlarge",
    "vcpuNum": 48
   },
   {
    "_defaultOrder": 18,
    "_isFastLaunch": false,
    "category": "General purpose",
    "gpuNum": 0,
    "hideHardwareSpecs": false,
    "memoryGiB": 256,
    "name": "ml.m5d.16xlarge",
    "vcpuNum": 64
   },
   {
    "_defaultOrder": 19,
    "_isFastLaunch": false,
    "category": "General purpose",
    "gpuNum": 0,
    "hideHardwareSpecs": false,
    "memoryGiB": 384,
    "name": "ml.m5d.24xlarge",
    "vcpuNum": 96
   },
   {
    "_defaultOrder": 20,
    "_isFastLaunch": false,
    "category": "General purpose",
    "gpuNum": 0,
    "hideHardwareSpecs": true,
    "memoryGiB": 0,
    "name": "ml.geospatial.interactive",
    "supportedImageNames": [
     "sagemaker-geospatial-v1-0"
    ],
    "vcpuNum": 0
   },
   {
    "_defaultOrder": 21,
    "_isFastLaunch": true,
    "category": "Compute optimized",
    "gpuNum": 0,
    "hideHardwareSpecs": false,
    "memoryGiB": 4,
    "name": "ml.c5.large",
    "vcpuNum": 2
   },
   {
    "_defaultOrder": 22,
    "_isFastLaunch": false,
    "category": "Compute optimized",
    "gpuNum": 0,
    "hideHardwareSpecs": false,
    "memoryGiB": 8,
    "name": "ml.c5.xlarge",
    "vcpuNum": 4
   },
   {
    "_defaultOrder": 23,
    "_isFastLaunch": false,
    "category": "Compute optimized",
    "gpuNum": 0,
    "hideHardwareSpecs": false,
    "memoryGiB": 16,
    "name": "ml.c5.2xlarge",
    "vcpuNum": 8
   },
   {
    "_defaultOrder": 24,
    "_isFastLaunch": false,
    "category": "Compute optimized",
    "gpuNum": 0,
    "hideHardwareSpecs": false,
    "memoryGiB": 32,
    "name": "ml.c5.4xlarge",
    "vcpuNum": 16
   },
   {
    "_defaultOrder": 25,
    "_isFastLaunch": false,
    "category": "Compute optimized",
    "gpuNum": 0,
    "hideHardwareSpecs": false,
    "memoryGiB": 72,
    "name": "ml.c5.9xlarge",
    "vcpuNum": 36
   },
   {
    "_defaultOrder": 26,
    "_isFastLaunch": false,
    "category": "Compute optimized",
    "gpuNum": 0,
    "hideHardwareSpecs": false,
    "memoryGiB": 96,
    "name": "ml.c5.12xlarge",
    "vcpuNum": 48
   },
   {
    "_defaultOrder": 27,
    "_isFastLaunch": false,
    "category": "Compute optimized",
    "gpuNum": 0,
    "hideHardwareSpecs": false,
    "memoryGiB": 144,
    "name": "ml.c5.18xlarge",
    "vcpuNum": 72
   },
   {
    "_defaultOrder": 28,
    "_isFastLaunch": false,
    "category": "Compute optimized",
    "gpuNum": 0,
    "hideHardwareSpecs": false,
    "memoryGiB": 192,
    "name": "ml.c5.24xlarge",
    "vcpuNum": 96
   },
   {
    "_defaultOrder": 29,
    "_isFastLaunch": true,
    "category": "Accelerated computing",
    "gpuNum": 1,
    "hideHardwareSpecs": false,
    "memoryGiB": 16,
    "name": "ml.g4dn.xlarge",
    "vcpuNum": 4
   },
   {
    "_defaultOrder": 30,
    "_isFastLaunch": false,
    "category": "Accelerated computing",
    "gpuNum": 1,
    "hideHardwareSpecs": false,
    "memoryGiB": 32,
    "name": "ml.g4dn.2xlarge",
    "vcpuNum": 8
   },
   {
    "_defaultOrder": 31,
    "_isFastLaunch": false,
    "category": "Accelerated computing",
    "gpuNum": 1,
    "hideHardwareSpecs": false,
    "memoryGiB": 64,
    "name": "ml.g4dn.4xlarge",
    "vcpuNum": 16
   },
   {
    "_defaultOrder": 32,
    "_isFastLaunch": false,
    "category": "Accelerated computing",
    "gpuNum": 1,
    "hideHardwareSpecs": false,
    "memoryGiB": 128,
    "name": "ml.g4dn.8xlarge",
    "vcpuNum": 32
   },
   {
    "_defaultOrder": 33,
    "_isFastLaunch": false,
    "category": "Accelerated computing",
    "gpuNum": 4,
    "hideHardwareSpecs": false,
    "memoryGiB": 192,
    "name": "ml.g4dn.12xlarge",
    "vcpuNum": 48
   },
   {
    "_defaultOrder": 34,
    "_isFastLaunch": false,
    "category": "Accelerated computing",
    "gpuNum": 1,
    "hideHardwareSpecs": false,
    "memoryGiB": 256,
    "name": "ml.g4dn.16xlarge",
    "vcpuNum": 64
   },
   {
    "_defaultOrder": 35,
    "_isFastLaunch": false,
    "category": "Accelerated computing",
    "gpuNum": 1,
    "hideHardwareSpecs": false,
    "memoryGiB": 61,
    "name": "ml.p3.2xlarge",
    "vcpuNum": 8
   },
   {
    "_defaultOrder": 36,
    "_isFastLaunch": false,
    "category": "Accelerated computing",
    "gpuNum": 4,
    "hideHardwareSpecs": false,
    "memoryGiB": 244,
    "name": "ml.p3.8xlarge",
    "vcpuNum": 32
   },
   {
    "_defaultOrder": 37,
    "_isFastLaunch": false,
    "category": "Accelerated computing",
    "gpuNum": 8,
    "hideHardwareSpecs": false,
    "memoryGiB": 488,
    "name": "ml.p3.16xlarge",
    "vcpuNum": 64
   },
   {
    "_defaultOrder": 38,
    "_isFastLaunch": false,
    "category": "Accelerated computing",
    "gpuNum": 8,
    "hideHardwareSpecs": false,
    "memoryGiB": 768,
    "name": "ml.p3dn.24xlarge",
    "vcpuNum": 96
   },
   {
    "_defaultOrder": 39,
    "_isFastLaunch": false,
    "category": "Memory Optimized",
    "gpuNum": 0,
    "hideHardwareSpecs": false,
    "memoryGiB": 16,
    "name": "ml.r5.large",
    "vcpuNum": 2
   },
   {
    "_defaultOrder": 40,
    "_isFastLaunch": false,
    "category": "Memory Optimized",
    "gpuNum": 0,
    "hideHardwareSpecs": false,
    "memoryGiB": 32,
    "name": "ml.r5.xlarge",
    "vcpuNum": 4
   },
   {
    "_defaultOrder": 41,
    "_isFastLaunch": false,
    "category": "Memory Optimized",
    "gpuNum": 0,
    "hideHardwareSpecs": false,
    "memoryGiB": 64,
    "name": "ml.r5.2xlarge",
    "vcpuNum": 8
   },
   {
    "_defaultOrder": 42,
    "_isFastLaunch": false,
    "category": "Memory Optimized",
    "gpuNum": 0,
    "hideHardwareSpecs": false,
    "memoryGiB": 128,
    "name": "ml.r5.4xlarge",
    "vcpuNum": 16
   },
   {
    "_defaultOrder": 43,
    "_isFastLaunch": false,
    "category": "Memory Optimized",
    "gpuNum": 0,
    "hideHardwareSpecs": false,
    "memoryGiB": 256,
    "name": "ml.r5.8xlarge",
    "vcpuNum": 32
   },
   {
    "_defaultOrder": 44,
    "_isFastLaunch": false,
    "category": "Memory Optimized",
    "gpuNum": 0,
    "hideHardwareSpecs": false,
    "memoryGiB": 384,
    "name": "ml.r5.12xlarge",
    "vcpuNum": 48
   },
   {
    "_defaultOrder": 45,
    "_isFastLaunch": false,
    "category": "Memory Optimized",
    "gpuNum": 0,
    "hideHardwareSpecs": false,
    "memoryGiB": 512,
    "name": "ml.r5.16xlarge",
    "vcpuNum": 64
   },
   {
    "_defaultOrder": 46,
    "_isFastLaunch": false,
    "category": "Memory Optimized",
    "gpuNum": 0,
    "hideHardwareSpecs": false,
    "memoryGiB": 768,
    "name": "ml.r5.24xlarge",
    "vcpuNum": 96
   },
   {
    "_defaultOrder": 47,
    "_isFastLaunch": false,
    "category": "Accelerated computing",
    "gpuNum": 1,
    "hideHardwareSpecs": false,
    "memoryGiB": 16,
    "name": "ml.g5.xlarge",
    "vcpuNum": 4
   },
   {
    "_defaultOrder": 48,
    "_isFastLaunch": false,
    "category": "Accelerated computing",
    "gpuNum": 1,
    "hideHardwareSpecs": false,
    "memoryGiB": 32,
    "name": "ml.g5.2xlarge",
    "vcpuNum": 8
   },
   {
    "_defaultOrder": 49,
    "_isFastLaunch": false,
    "category": "Accelerated computing",
    "gpuNum": 1,
    "hideHardwareSpecs": false,
    "memoryGiB": 64,
    "name": "ml.g5.4xlarge",
    "vcpuNum": 16
   },
   {
    "_defaultOrder": 50,
    "_isFastLaunch": false,
    "category": "Accelerated computing",
    "gpuNum": 1,
    "hideHardwareSpecs": false,
    "memoryGiB": 128,
    "name": "ml.g5.8xlarge",
    "vcpuNum": 32
   },
   {
    "_defaultOrder": 51,
    "_isFastLaunch": false,
    "category": "Accelerated computing",
    "gpuNum": 1,
    "hideHardwareSpecs": false,
    "memoryGiB": 256,
    "name": "ml.g5.16xlarge",
    "vcpuNum": 64
   },
   {
    "_defaultOrder": 52,
    "_isFastLaunch": false,
    "category": "Accelerated computing",
    "gpuNum": 4,
    "hideHardwareSpecs": false,
    "memoryGiB": 192,
    "name": "ml.g5.12xlarge",
    "vcpuNum": 48
   },
   {
    "_defaultOrder": 53,
    "_isFastLaunch": false,
    "category": "Accelerated computing",
    "gpuNum": 4,
    "hideHardwareSpecs": false,
    "memoryGiB": 384,
    "name": "ml.g5.24xlarge",
    "vcpuNum": 96
   },
   {
    "_defaultOrder": 54,
    "_isFastLaunch": false,
    "category": "Accelerated computing",
    "gpuNum": 8,
    "hideHardwareSpecs": false,
    "memoryGiB": 768,
    "name": "ml.g5.48xlarge",
    "vcpuNum": 192
   },
   {
    "_defaultOrder": 55,
    "_isFastLaunch": false,
    "category": "Accelerated computing",
    "gpuNum": 8,
    "hideHardwareSpecs": false,
    "memoryGiB": 1152,
    "name": "ml.p4d.24xlarge",
    "vcpuNum": 96
   },
   {
    "_defaultOrder": 56,
    "_isFastLaunch": false,
    "category": "Accelerated computing",
    "gpuNum": 8,
    "hideHardwareSpecs": false,
    "memoryGiB": 1152,
    "name": "ml.p4de.24xlarge",
    "vcpuNum": 96
   }
  ],
  "kernelspec": {
   "display_name": "Python 3 (Data Science 3.0)",
   "language": "python",
   "name": "python3__SAGEMAKER_INTERNAL__arn:aws:sagemaker:ap-southeast-1:492261229750:image/sagemaker-data-science-310-v1"
  },
  "language_info": {
   "codemirror_mode": {
    "name": "ipython",
    "version": 3
   },
   "file_extension": ".py",
   "mimetype": "text/x-python",
   "name": "python",
   "nbconvert_exporter": "python",
   "pygments_lexer": "ipython3",
   "version": "3.10.6"
  }
 },
 "nbformat": 4,
 "nbformat_minor": 5
}
